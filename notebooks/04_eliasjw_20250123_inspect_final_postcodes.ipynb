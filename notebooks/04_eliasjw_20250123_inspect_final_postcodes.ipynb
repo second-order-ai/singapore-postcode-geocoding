{
 "cells": [
  {
   "cell_type": "markdown",
   "metadata": {},
   "source": [
    "# Inspect final postcodes\n",
    "\n",
    "See what the post code range is, needed to validate against new files."
   ]
  },
  {
   "cell_type": "code",
   "execution_count": 1,
   "metadata": {},
   "outputs": [
    {
     "data": {
      "text/html": [
       "<pre style=\"white-space:pre;overflow-x:auto;line-height:normal;font-family:Menlo,'DejaVu Sans Mono',consolas,'Courier New',monospace\"><span style=\"color: #7fbfbf; text-decoration-color: #7fbfbf\">[01/23/25 15:37:15] </span><span style=\"color: #000080; text-decoration-color: #000080\">INFO    </span> Using                                                                  <a href=\"file:///Users/ejwillemse/dev/projects/second_order_ai/singapore-postcode-geocoding/.venv/lib/python3.12/site-packages/kedro/framework/project/__init__.py\" target=\"_blank\"><span style=\"color: #7f7f7f; text-decoration-color: #7f7f7f\">__init__.py</span></a><span style=\"color: #7f7f7f; text-decoration-color: #7f7f7f\">:</span><a href=\"file:///Users/ejwillemse/dev/projects/second_order_ai/singapore-postcode-geocoding/.venv/lib/python3.12/site-packages/kedro/framework/project/__init__.py#270\" target=\"_blank\"><span style=\"color: #7f7f7f; text-decoration-color: #7f7f7f\">270</span></a>\n",
       "<span style=\"color: #7fbfbf; text-decoration-color: #7fbfbf\">                    </span>         <span style=\"color: #008000; text-decoration-color: #008000\">'/Users/ejwillemse/dev/projects/second_order_ai/singapore-postcode-geo</span> <span style=\"color: #7f7f7f; text-decoration-color: #7f7f7f\">               </span>\n",
       "<span style=\"color: #7fbfbf; text-decoration-color: #7fbfbf\">                    </span>         <span style=\"color: #008000; text-decoration-color: #008000\">coding/.venv/lib/python3.12/site-packages/kedro/framework/project/rich</span> <span style=\"color: #7f7f7f; text-decoration-color: #7f7f7f\">               </span>\n",
       "<span style=\"color: #7fbfbf; text-decoration-color: #7fbfbf\">                    </span>         <span style=\"color: #008000; text-decoration-color: #008000\">_logging.yml'</span> as logging configuration.                                <span style=\"color: #7f7f7f; text-decoration-color: #7f7f7f\">               </span>\n",
       "</pre>\n"
      ],
      "text/plain": [
       "\u001b[2;36m[01/23/25 15:37:15]\u001b[0m\u001b[2;36m \u001b[0m\u001b[34mINFO    \u001b[0m Using                                                                  \u001b]8;id=60061;file:///Users/ejwillemse/dev/projects/second_order_ai/singapore-postcode-geocoding/.venv/lib/python3.12/site-packages/kedro/framework/project/__init__.py\u001b\\\u001b[2m__init__.py\u001b[0m\u001b]8;;\u001b\\\u001b[2m:\u001b[0m\u001b]8;id=556354;file:///Users/ejwillemse/dev/projects/second_order_ai/singapore-postcode-geocoding/.venv/lib/python3.12/site-packages/kedro/framework/project/__init__.py#270\u001b\\\u001b[2m270\u001b[0m\u001b]8;;\u001b\\\n",
       "\u001b[2;36m                    \u001b[0m         \u001b[32m'/Users/ejwillemse/dev/projects/second_order_ai/singapore-postcode-geo\u001b[0m \u001b[2m               \u001b[0m\n",
       "\u001b[2;36m                    \u001b[0m         \u001b[32mcoding/.venv/lib/python3.12/site-packages/kedro/framework/project/rich\u001b[0m \u001b[2m               \u001b[0m\n",
       "\u001b[2;36m                    \u001b[0m         \u001b[32m_logging.yml'\u001b[0m as logging configuration.                                \u001b[2m               \u001b[0m\n"
      ]
     },
     "metadata": {},
     "output_type": "display_data"
    },
    {
     "data": {
      "text/html": [
       "<pre style=\"white-space:pre;overflow-x:auto;line-height:normal;font-family:Menlo,'DejaVu Sans Mono',consolas,'Courier New',monospace\"><span style=\"color: #7fbfbf; text-decoration-color: #7fbfbf\">                    </span><span style=\"color: #000080; text-decoration-color: #000080\">INFO    </span> Registered line magic <span style=\"color: #008000; text-decoration-color: #008000\">'%reload_kedro'</span>                                   <a href=\"file:///Users/ejwillemse/dev/projects/second_order_ai/singapore-postcode-geocoding/.venv/lib/python3.12/site-packages/kedro/ipython/__init__.py\" target=\"_blank\"><span style=\"color: #7f7f7f; text-decoration-color: #7f7f7f\">__init__.py</span></a><span style=\"color: #7f7f7f; text-decoration-color: #7f7f7f\">:</span><a href=\"file:///Users/ejwillemse/dev/projects/second_order_ai/singapore-postcode-geocoding/.venv/lib/python3.12/site-packages/kedro/ipython/__init__.py#61\" target=\"_blank\"><span style=\"color: #7f7f7f; text-decoration-color: #7f7f7f\">61</span></a>\n",
       "</pre>\n"
      ],
      "text/plain": [
       "\u001b[2;36m                   \u001b[0m\u001b[2;36m \u001b[0m\u001b[34mINFO    \u001b[0m Registered line magic \u001b[32m'%reload_kedro'\u001b[0m                                   \u001b]8;id=887704;file:///Users/ejwillemse/dev/projects/second_order_ai/singapore-postcode-geocoding/.venv/lib/python3.12/site-packages/kedro/ipython/__init__.py\u001b\\\u001b[2m__init__.py\u001b[0m\u001b]8;;\u001b\\\u001b[2m:\u001b[0m\u001b]8;id=178869;file:///Users/ejwillemse/dev/projects/second_order_ai/singapore-postcode-geocoding/.venv/lib/python3.12/site-packages/kedro/ipython/__init__.py#61\u001b\\\u001b[2m61\u001b[0m\u001b]8;;\u001b\\\n"
      ]
     },
     "metadata": {},
     "output_type": "display_data"
    },
    {
     "data": {
      "text/html": [
       "<pre style=\"white-space:pre;overflow-x:auto;line-height:normal;font-family:Menlo,'DejaVu Sans Mono',consolas,'Courier New',monospace\"><span style=\"color: #7fbfbf; text-decoration-color: #7fbfbf\">                    </span><span style=\"color: #000080; text-decoration-color: #000080\">INFO    </span> Registered line magic <span style=\"color: #008000; text-decoration-color: #008000\">'%load_node'</span>                                      <a href=\"file:///Users/ejwillemse/dev/projects/second_order_ai/singapore-postcode-geocoding/.venv/lib/python3.12/site-packages/kedro/ipython/__init__.py\" target=\"_blank\"><span style=\"color: #7f7f7f; text-decoration-color: #7f7f7f\">__init__.py</span></a><span style=\"color: #7f7f7f; text-decoration-color: #7f7f7f\">:</span><a href=\"file:///Users/ejwillemse/dev/projects/second_order_ai/singapore-postcode-geocoding/.venv/lib/python3.12/site-packages/kedro/ipython/__init__.py#63\" target=\"_blank\"><span style=\"color: #7f7f7f; text-decoration-color: #7f7f7f\">63</span></a>\n",
       "</pre>\n"
      ],
      "text/plain": [
       "\u001b[2;36m                   \u001b[0m\u001b[2;36m \u001b[0m\u001b[34mINFO    \u001b[0m Registered line magic \u001b[32m'%load_node'\u001b[0m                                      \u001b]8;id=846295;file:///Users/ejwillemse/dev/projects/second_order_ai/singapore-postcode-geocoding/.venv/lib/python3.12/site-packages/kedro/ipython/__init__.py\u001b\\\u001b[2m__init__.py\u001b[0m\u001b]8;;\u001b\\\u001b[2m:\u001b[0m\u001b]8;id=544305;file:///Users/ejwillemse/dev/projects/second_order_ai/singapore-postcode-geocoding/.venv/lib/python3.12/site-packages/kedro/ipython/__init__.py#63\u001b\\\u001b[2m63\u001b[0m\u001b]8;;\u001b\\\n"
      ]
     },
     "metadata": {},
     "output_type": "display_data"
    },
    {
     "data": {
      "text/html": [
       "<pre style=\"white-space:pre;overflow-x:auto;line-height:normal;font-family:Menlo,'DejaVu Sans Mono',consolas,'Courier New',monospace\"><span style=\"color: #7fbfbf; text-decoration-color: #7fbfbf\">                    </span><span style=\"color: #000080; text-decoration-color: #000080\">INFO    </span> Resolved project path as:                                              <a href=\"file:///Users/ejwillemse/dev/projects/second_order_ai/singapore-postcode-geocoding/.venv/lib/python3.12/site-packages/kedro/ipython/__init__.py\" target=\"_blank\"><span style=\"color: #7f7f7f; text-decoration-color: #7f7f7f\">__init__.py</span></a><span style=\"color: #7f7f7f; text-decoration-color: #7f7f7f\">:</span><a href=\"file:///Users/ejwillemse/dev/projects/second_order_ai/singapore-postcode-geocoding/.venv/lib/python3.12/site-packages/kedro/ipython/__init__.py#178\" target=\"_blank\"><span style=\"color: #7f7f7f; text-decoration-color: #7f7f7f\">178</span></a>\n",
       "<span style=\"color: #7fbfbf; text-decoration-color: #7fbfbf\">                    </span>         <span style=\"color: #800080; text-decoration-color: #800080\">/Users/ejwillemse/dev/projects/second_order_ai/</span><span style=\"color: #ff00ff; text-decoration-color: #ff00ff\">singapore-postcode-geoc</span> <span style=\"color: #7f7f7f; text-decoration-color: #7f7f7f\">               </span>\n",
       "<span style=\"color: #7fbfbf; text-decoration-color: #7fbfbf\">                    </span>         <span style=\"color: #ff00ff; text-decoration-color: #ff00ff\">oding.</span>                                                                 <span style=\"color: #7f7f7f; text-decoration-color: #7f7f7f\">               </span>\n",
       "<span style=\"color: #7fbfbf; text-decoration-color: #7fbfbf\">                    </span>         To set a different path, run <span style=\"color: #008000; text-decoration-color: #008000\">'%reload_kedro &lt;project_root&gt;'</span>            <span style=\"color: #7f7f7f; text-decoration-color: #7f7f7f\">               </span>\n",
       "</pre>\n"
      ],
      "text/plain": [
       "\u001b[2;36m                   \u001b[0m\u001b[2;36m \u001b[0m\u001b[34mINFO    \u001b[0m Resolved project path as:                                              \u001b]8;id=504835;file:///Users/ejwillemse/dev/projects/second_order_ai/singapore-postcode-geocoding/.venv/lib/python3.12/site-packages/kedro/ipython/__init__.py\u001b\\\u001b[2m__init__.py\u001b[0m\u001b]8;;\u001b\\\u001b[2m:\u001b[0m\u001b]8;id=349772;file:///Users/ejwillemse/dev/projects/second_order_ai/singapore-postcode-geocoding/.venv/lib/python3.12/site-packages/kedro/ipython/__init__.py#178\u001b\\\u001b[2m178\u001b[0m\u001b]8;;\u001b\\\n",
       "\u001b[2;36m                    \u001b[0m         \u001b[35m/Users/ejwillemse/dev/projects/second_order_ai/\u001b[0m\u001b[95msingapore-postcode-geoc\u001b[0m \u001b[2m               \u001b[0m\n",
       "\u001b[2;36m                    \u001b[0m         \u001b[95moding.\u001b[0m                                                                 \u001b[2m               \u001b[0m\n",
       "\u001b[2;36m                    \u001b[0m         To set a different path, run \u001b[32m'%reload_kedro \u001b[0m\u001b[32m<\u001b[0m\u001b[32mproject_root\u001b[0m\u001b[32m>\u001b[0m\u001b[32m'\u001b[0m            \u001b[2m               \u001b[0m\n"
      ]
     },
     "metadata": {},
     "output_type": "display_data"
    },
    {
     "data": {
      "text/html": [
       "<pre style=\"white-space:pre;overflow-x:auto;line-height:normal;font-family:Menlo,'DejaVu Sans Mono',consolas,'Courier New',monospace\"><span style=\"color: #7fbfbf; text-decoration-color: #7fbfbf\">[01/23/25 15:37:16] </span><span style=\"color: #000080; text-decoration-color: #000080\">INFO    </span> Kedro project singapore-postcode-geocoding                             <a href=\"file:///Users/ejwillemse/dev/projects/second_order_ai/singapore-postcode-geocoding/.venv/lib/python3.12/site-packages/kedro/ipython/__init__.py\" target=\"_blank\"><span style=\"color: #7f7f7f; text-decoration-color: #7f7f7f\">__init__.py</span></a><span style=\"color: #7f7f7f; text-decoration-color: #7f7f7f\">:</span><a href=\"file:///Users/ejwillemse/dev/projects/second_order_ai/singapore-postcode-geocoding/.venv/lib/python3.12/site-packages/kedro/ipython/__init__.py#144\" target=\"_blank\"><span style=\"color: #7f7f7f; text-decoration-color: #7f7f7f\">144</span></a>\n",
       "</pre>\n"
      ],
      "text/plain": [
       "\u001b[2;36m[01/23/25 15:37:16]\u001b[0m\u001b[2;36m \u001b[0m\u001b[34mINFO    \u001b[0m Kedro project singapore-postcode-geocoding                             \u001b]8;id=566380;file:///Users/ejwillemse/dev/projects/second_order_ai/singapore-postcode-geocoding/.venv/lib/python3.12/site-packages/kedro/ipython/__init__.py\u001b\\\u001b[2m__init__.py\u001b[0m\u001b]8;;\u001b\\\u001b[2m:\u001b[0m\u001b]8;id=336262;file:///Users/ejwillemse/dev/projects/second_order_ai/singapore-postcode-geocoding/.venv/lib/python3.12/site-packages/kedro/ipython/__init__.py#144\u001b\\\u001b[2m144\u001b[0m\u001b]8;;\u001b\\\n"
      ]
     },
     "metadata": {},
     "output_type": "display_data"
    },
    {
     "data": {
      "text/html": [
       "<pre style=\"white-space:pre;overflow-x:auto;line-height:normal;font-family:Menlo,'DejaVu Sans Mono',consolas,'Courier New',monospace\"><span style=\"color: #7fbfbf; text-decoration-color: #7fbfbf\">                    </span><span style=\"color: #000080; text-decoration-color: #000080\">INFO    </span> Defined global variable <span style=\"color: #008000; text-decoration-color: #008000\">'context'</span>, <span style=\"color: #008000; text-decoration-color: #008000\">'session'</span>, <span style=\"color: #008000; text-decoration-color: #008000\">'catalog'</span> and            <a href=\"file:///Users/ejwillemse/dev/projects/second_order_ai/singapore-postcode-geocoding/.venv/lib/python3.12/site-packages/kedro/ipython/__init__.py\" target=\"_blank\"><span style=\"color: #7f7f7f; text-decoration-color: #7f7f7f\">__init__.py</span></a><span style=\"color: #7f7f7f; text-decoration-color: #7f7f7f\">:</span><a href=\"file:///Users/ejwillemse/dev/projects/second_order_ai/singapore-postcode-geocoding/.venv/lib/python3.12/site-packages/kedro/ipython/__init__.py#145\" target=\"_blank\"><span style=\"color: #7f7f7f; text-decoration-color: #7f7f7f\">145</span></a>\n",
       "<span style=\"color: #7fbfbf; text-decoration-color: #7fbfbf\">                    </span>         <span style=\"color: #008000; text-decoration-color: #008000\">'pipelines'</span>                                                            <span style=\"color: #7f7f7f; text-decoration-color: #7f7f7f\">               </span>\n",
       "</pre>\n"
      ],
      "text/plain": [
       "\u001b[2;36m                   \u001b[0m\u001b[2;36m \u001b[0m\u001b[34mINFO    \u001b[0m Defined global variable \u001b[32m'context'\u001b[0m, \u001b[32m'session'\u001b[0m, \u001b[32m'catalog'\u001b[0m and            \u001b]8;id=877243;file:///Users/ejwillemse/dev/projects/second_order_ai/singapore-postcode-geocoding/.venv/lib/python3.12/site-packages/kedro/ipython/__init__.py\u001b\\\u001b[2m__init__.py\u001b[0m\u001b]8;;\u001b\\\u001b[2m:\u001b[0m\u001b]8;id=361207;file:///Users/ejwillemse/dev/projects/second_order_ai/singapore-postcode-geocoding/.venv/lib/python3.12/site-packages/kedro/ipython/__init__.py#145\u001b\\\u001b[2m145\u001b[0m\u001b]8;;\u001b\\\n",
       "\u001b[2;36m                    \u001b[0m         \u001b[32m'pipelines'\u001b[0m                                                            \u001b[2m               \u001b[0m\n"
      ]
     },
     "metadata": {},
     "output_type": "display_data"
    },
    {
     "data": {
      "text/html": [
       "<pre style=\"white-space:pre;overflow-x:auto;line-height:normal;font-family:Menlo,'DejaVu Sans Mono',consolas,'Courier New',monospace\"><span style=\"color: #7fbfbf; text-decoration-color: #7fbfbf\">[01/23/25 15:37:18] </span><span style=\"color: #000080; text-decoration-color: #000080\">INFO    </span> Registered line magic <span style=\"color: #008000; text-decoration-color: #008000\">'run_viz'</span>                                        <a href=\"file:///Users/ejwillemse/dev/projects/second_order_ai/singapore-postcode-geocoding/.venv/lib/python3.12/site-packages/kedro/ipython/__init__.py\" target=\"_blank\"><span style=\"color: #7f7f7f; text-decoration-color: #7f7f7f\">__init__.py</span></a><span style=\"color: #7f7f7f; text-decoration-color: #7f7f7f\">:</span><a href=\"file:///Users/ejwillemse/dev/projects/second_order_ai/singapore-postcode-geocoding/.venv/lib/python3.12/site-packages/kedro/ipython/__init__.py#151\" target=\"_blank\"><span style=\"color: #7f7f7f; text-decoration-color: #7f7f7f\">151</span></a>\n",
       "</pre>\n"
      ],
      "text/plain": [
       "\u001b[2;36m[01/23/25 15:37:18]\u001b[0m\u001b[2;36m \u001b[0m\u001b[34mINFO    \u001b[0m Registered line magic \u001b[32m'run_viz'\u001b[0m                                        \u001b]8;id=725698;file:///Users/ejwillemse/dev/projects/second_order_ai/singapore-postcode-geocoding/.venv/lib/python3.12/site-packages/kedro/ipython/__init__.py\u001b\\\u001b[2m__init__.py\u001b[0m\u001b]8;;\u001b\\\u001b[2m:\u001b[0m\u001b]8;id=69633;file:///Users/ejwillemse/dev/projects/second_order_ai/singapore-postcode-geocoding/.venv/lib/python3.12/site-packages/kedro/ipython/__init__.py#151\u001b\\\u001b[2m151\u001b[0m\u001b]8;;\u001b\\\n"
      ]
     },
     "metadata": {},
     "output_type": "display_data"
    },
    {
     "data": {
      "text/html": [
       "<pre style=\"white-space:pre;overflow-x:auto;line-height:normal;font-family:Menlo,'DejaVu Sans Mono',consolas,'Courier New',monospace\"><span style=\"color: #7fbfbf; text-decoration-color: #7fbfbf\">                    </span><span style=\"color: #000080; text-decoration-color: #000080\">INFO    </span> Resolved project path as:                                              <a href=\"file:///Users/ejwillemse/dev/projects/second_order_ai/singapore-postcode-geocoding/.venv/lib/python3.12/site-packages/kedro/ipython/__init__.py\" target=\"_blank\"><span style=\"color: #7f7f7f; text-decoration-color: #7f7f7f\">__init__.py</span></a><span style=\"color: #7f7f7f; text-decoration-color: #7f7f7f\">:</span><a href=\"file:///Users/ejwillemse/dev/projects/second_order_ai/singapore-postcode-geocoding/.venv/lib/python3.12/site-packages/kedro/ipython/__init__.py#178\" target=\"_blank\"><span style=\"color: #7f7f7f; text-decoration-color: #7f7f7f\">178</span></a>\n",
       "<span style=\"color: #7fbfbf; text-decoration-color: #7fbfbf\">                    </span>         <span style=\"color: #800080; text-decoration-color: #800080\">/Users/ejwillemse/dev/projects/second_order_ai/</span><span style=\"color: #ff00ff; text-decoration-color: #ff00ff\">singapore-postcode-geoc</span> <span style=\"color: #7f7f7f; text-decoration-color: #7f7f7f\">               </span>\n",
       "<span style=\"color: #7fbfbf; text-decoration-color: #7fbfbf\">                    </span>         <span style=\"color: #ff00ff; text-decoration-color: #ff00ff\">oding.</span>                                                                 <span style=\"color: #7f7f7f; text-decoration-color: #7f7f7f\">               </span>\n",
       "<span style=\"color: #7fbfbf; text-decoration-color: #7fbfbf\">                    </span>         To set a different path, run <span style=\"color: #008000; text-decoration-color: #008000\">'%reload_kedro &lt;project_root&gt;'</span>            <span style=\"color: #7f7f7f; text-decoration-color: #7f7f7f\">               </span>\n",
       "</pre>\n"
      ],
      "text/plain": [
       "\u001b[2;36m                   \u001b[0m\u001b[2;36m \u001b[0m\u001b[34mINFO    \u001b[0m Resolved project path as:                                              \u001b]8;id=9325;file:///Users/ejwillemse/dev/projects/second_order_ai/singapore-postcode-geocoding/.venv/lib/python3.12/site-packages/kedro/ipython/__init__.py\u001b\\\u001b[2m__init__.py\u001b[0m\u001b]8;;\u001b\\\u001b[2m:\u001b[0m\u001b]8;id=990285;file:///Users/ejwillemse/dev/projects/second_order_ai/singapore-postcode-geocoding/.venv/lib/python3.12/site-packages/kedro/ipython/__init__.py#178\u001b\\\u001b[2m178\u001b[0m\u001b]8;;\u001b\\\n",
       "\u001b[2;36m                    \u001b[0m         \u001b[35m/Users/ejwillemse/dev/projects/second_order_ai/\u001b[0m\u001b[95msingapore-postcode-geoc\u001b[0m \u001b[2m               \u001b[0m\n",
       "\u001b[2;36m                    \u001b[0m         \u001b[95moding.\u001b[0m                                                                 \u001b[2m               \u001b[0m\n",
       "\u001b[2;36m                    \u001b[0m         To set a different path, run \u001b[32m'%reload_kedro \u001b[0m\u001b[32m<\u001b[0m\u001b[32mproject_root\u001b[0m\u001b[32m>\u001b[0m\u001b[32m'\u001b[0m            \u001b[2m               \u001b[0m\n"
      ]
     },
     "metadata": {},
     "output_type": "display_data"
    },
    {
     "data": {
      "text/html": [
       "<pre style=\"white-space:pre;overflow-x:auto;line-height:normal;font-family:Menlo,'DejaVu Sans Mono',consolas,'Courier New',monospace\"><span style=\"color: #7fbfbf; text-decoration-color: #7fbfbf\">[01/23/25 15:37:19] </span><span style=\"color: #000080; text-decoration-color: #000080\">INFO    </span> Kedro project singapore-postcode-geocoding                             <a href=\"file:///Users/ejwillemse/dev/projects/second_order_ai/singapore-postcode-geocoding/.venv/lib/python3.12/site-packages/kedro/ipython/__init__.py\" target=\"_blank\"><span style=\"color: #7f7f7f; text-decoration-color: #7f7f7f\">__init__.py</span></a><span style=\"color: #7f7f7f; text-decoration-color: #7f7f7f\">:</span><a href=\"file:///Users/ejwillemse/dev/projects/second_order_ai/singapore-postcode-geocoding/.venv/lib/python3.12/site-packages/kedro/ipython/__init__.py#144\" target=\"_blank\"><span style=\"color: #7f7f7f; text-decoration-color: #7f7f7f\">144</span></a>\n",
       "</pre>\n"
      ],
      "text/plain": [
       "\u001b[2;36m[01/23/25 15:37:19]\u001b[0m\u001b[2;36m \u001b[0m\u001b[34mINFO    \u001b[0m Kedro project singapore-postcode-geocoding                             \u001b]8;id=59463;file:///Users/ejwillemse/dev/projects/second_order_ai/singapore-postcode-geocoding/.venv/lib/python3.12/site-packages/kedro/ipython/__init__.py\u001b\\\u001b[2m__init__.py\u001b[0m\u001b]8;;\u001b\\\u001b[2m:\u001b[0m\u001b]8;id=455827;file:///Users/ejwillemse/dev/projects/second_order_ai/singapore-postcode-geocoding/.venv/lib/python3.12/site-packages/kedro/ipython/__init__.py#144\u001b\\\u001b[2m144\u001b[0m\u001b]8;;\u001b\\\n"
      ]
     },
     "metadata": {},
     "output_type": "display_data"
    },
    {
     "data": {
      "text/html": [
       "<pre style=\"white-space:pre;overflow-x:auto;line-height:normal;font-family:Menlo,'DejaVu Sans Mono',consolas,'Courier New',monospace\"><span style=\"color: #7fbfbf; text-decoration-color: #7fbfbf\">                    </span><span style=\"color: #000080; text-decoration-color: #000080\">INFO    </span> Defined global variable <span style=\"color: #008000; text-decoration-color: #008000\">'context'</span>, <span style=\"color: #008000; text-decoration-color: #008000\">'session'</span>, <span style=\"color: #008000; text-decoration-color: #008000\">'catalog'</span> and            <a href=\"file:///Users/ejwillemse/dev/projects/second_order_ai/singapore-postcode-geocoding/.venv/lib/python3.12/site-packages/kedro/ipython/__init__.py\" target=\"_blank\"><span style=\"color: #7f7f7f; text-decoration-color: #7f7f7f\">__init__.py</span></a><span style=\"color: #7f7f7f; text-decoration-color: #7f7f7f\">:</span><a href=\"file:///Users/ejwillemse/dev/projects/second_order_ai/singapore-postcode-geocoding/.venv/lib/python3.12/site-packages/kedro/ipython/__init__.py#145\" target=\"_blank\"><span style=\"color: #7f7f7f; text-decoration-color: #7f7f7f\">145</span></a>\n",
       "<span style=\"color: #7fbfbf; text-decoration-color: #7fbfbf\">                    </span>         <span style=\"color: #008000; text-decoration-color: #008000\">'pipelines'</span>                                                            <span style=\"color: #7f7f7f; text-decoration-color: #7f7f7f\">               </span>\n",
       "</pre>\n"
      ],
      "text/plain": [
       "\u001b[2;36m                   \u001b[0m\u001b[2;36m \u001b[0m\u001b[34mINFO    \u001b[0m Defined global variable \u001b[32m'context'\u001b[0m, \u001b[32m'session'\u001b[0m, \u001b[32m'catalog'\u001b[0m and            \u001b]8;id=997295;file:///Users/ejwillemse/dev/projects/second_order_ai/singapore-postcode-geocoding/.venv/lib/python3.12/site-packages/kedro/ipython/__init__.py\u001b\\\u001b[2m__init__.py\u001b[0m\u001b]8;;\u001b\\\u001b[2m:\u001b[0m\u001b]8;id=443062;file:///Users/ejwillemse/dev/projects/second_order_ai/singapore-postcode-geocoding/.venv/lib/python3.12/site-packages/kedro/ipython/__init__.py#145\u001b\\\u001b[2m145\u001b[0m\u001b]8;;\u001b\\\n",
       "\u001b[2;36m                    \u001b[0m         \u001b[32m'pipelines'\u001b[0m                                                            \u001b[2m               \u001b[0m\n"
      ]
     },
     "metadata": {},
     "output_type": "display_data"
    },
    {
     "data": {
      "text/html": [
       "<pre style=\"white-space:pre;overflow-x:auto;line-height:normal;font-family:Menlo,'DejaVu Sans Mono',consolas,'Courier New',monospace\"><span style=\"color: #7fbfbf; text-decoration-color: #7fbfbf\">                    </span><span style=\"color: #000080; text-decoration-color: #000080\">INFO    </span> Registered line magic <span style=\"color: #008000; text-decoration-color: #008000\">'run_viz'</span>                                        <a href=\"file:///Users/ejwillemse/dev/projects/second_order_ai/singapore-postcode-geocoding/.venv/lib/python3.12/site-packages/kedro/ipython/__init__.py\" target=\"_blank\"><span style=\"color: #7f7f7f; text-decoration-color: #7f7f7f\">__init__.py</span></a><span style=\"color: #7f7f7f; text-decoration-color: #7f7f7f\">:</span><a href=\"file:///Users/ejwillemse/dev/projects/second_order_ai/singapore-postcode-geocoding/.venv/lib/python3.12/site-packages/kedro/ipython/__init__.py#151\" target=\"_blank\"><span style=\"color: #7f7f7f; text-decoration-color: #7f7f7f\">151</span></a>\n",
       "</pre>\n"
      ],
      "text/plain": [
       "\u001b[2;36m                   \u001b[0m\u001b[2;36m \u001b[0m\u001b[34mINFO    \u001b[0m Registered line magic \u001b[32m'run_viz'\u001b[0m                                        \u001b]8;id=576323;file:///Users/ejwillemse/dev/projects/second_order_ai/singapore-postcode-geocoding/.venv/lib/python3.12/site-packages/kedro/ipython/__init__.py\u001b\\\u001b[2m__init__.py\u001b[0m\u001b]8;;\u001b\\\u001b[2m:\u001b[0m\u001b]8;id=881060;file:///Users/ejwillemse/dev/projects/second_order_ai/singapore-postcode-geocoding/.venv/lib/python3.12/site-packages/kedro/ipython/__init__.py#151\u001b\\\u001b[2m151\u001b[0m\u001b]8;;\u001b\\\n"
      ]
     },
     "metadata": {},
     "output_type": "display_data"
    }
   ],
   "source": [
    "%load_ext kedro.ipython\n",
    "%reload_kedro --env=test\n",
    "%load_ext autoreload\n",
    "%autoreload 2\n",
    "%config IPCompleter.use_jedi=False\n",
    "from IPython.core.interactiveshell import InteractiveShell\n",
    "import os\n",
    "import pandas as pd\n",
    "InteractiveShell.ast_node_interactivity = \"all\"\n",
    "os.chdir(context.project_path)\n",
    "catalog = context.catalog\n",
    "params = context.params"
   ]
  },
  {
   "cell_type": "markdown",
   "metadata": {},
   "source": [
    "## Inspect data"
   ]
  },
  {
   "cell_type": "code",
   "execution_count": null,
   "metadata": {},
   "outputs": [
    {
     "data": {
      "text/html": [
       "<pre style=\"white-space:pre;overflow-x:auto;line-height:normal;font-family:Menlo,'DejaVu Sans Mono',consolas,'Courier New',monospace\"><span style=\"color: #7fbfbf; text-decoration-color: #7fbfbf\">[01/23/25 15:39:17] </span><span style=\"color: #000080; text-decoration-color: #000080\">INFO    </span> Loading data from <span style=\"color: #ff8700; text-decoration-color: #ff8700\">singapore_postcodes_geocoded</span> <span style=\"font-weight: bold\">(</span>ParquetDataset<span style=\"font-weight: bold\">)</span><span style=\"color: #808000; text-decoration-color: #808000\">...</span> <a href=\"file:///Users/ejwillemse/dev/projects/second_order_ai/singapore-postcode-geocoding/.venv/lib/python3.12/site-packages/kedro/io/data_catalog.py\" target=\"_blank\"><span style=\"color: #7f7f7f; text-decoration-color: #7f7f7f\">data_catalog.py</span></a><span style=\"color: #7f7f7f; text-decoration-color: #7f7f7f\">:</span><a href=\"file:///Users/ejwillemse/dev/projects/second_order_ai/singapore-postcode-geocoding/.venv/lib/python3.12/site-packages/kedro/io/data_catalog.py#389\" target=\"_blank\"><span style=\"color: #7f7f7f; text-decoration-color: #7f7f7f\">389</span></a>\n",
       "</pre>\n"
      ],
      "text/plain": [
       "\u001b[2;36m[01/23/25 15:39:17]\u001b[0m\u001b[2;36m \u001b[0m\u001b[34mINFO    \u001b[0m Loading data from \u001b[38;5;208msingapore_postcodes_geocoded\u001b[0m \u001b[1m(\u001b[0mParquetDataset\u001b[1m)\u001b[0m\u001b[33m...\u001b[0m \u001b]8;id=194509;file:///Users/ejwillemse/dev/projects/second_order_ai/singapore-postcode-geocoding/.venv/lib/python3.12/site-packages/kedro/io/data_catalog.py\u001b\\\u001b[2mdata_catalog.py\u001b[0m\u001b]8;;\u001b\\\u001b[2m:\u001b[0m\u001b]8;id=812512;file:///Users/ejwillemse/dev/projects/second_order_ai/singapore-postcode-geocoding/.venv/lib/python3.12/site-packages/kedro/io/data_catalog.py#389\u001b\\\u001b[2m389\u001b[0m\u001b]8;;\u001b\\\n"
      ]
     },
     "metadata": {},
     "output_type": "display_data"
    },
    {
     "data": {
      "text/html": [
       "<pre style=\"white-space:pre;overflow-x:auto;line-height:normal;font-family:Menlo,'DejaVu Sans Mono',consolas,'Courier New',monospace\"></pre>\n"
      ],
      "text/plain": []
     },
     "metadata": {},
     "output_type": "display_data"
    },
    {
     "data": {
      "text/html": [
       "<div>\n",
       "<style scoped>\n",
       "    .dataframe tbody tr th:only-of-type {\n",
       "        vertical-align: middle;\n",
       "    }\n",
       "\n",
       "    .dataframe tbody tr th {\n",
       "        vertical-align: top;\n",
       "    }\n",
       "\n",
       "    .dataframe thead th {\n",
       "        text-align: right;\n",
       "    }\n",
       "</style>\n",
       "<table border=\"1\" class=\"dataframe\">\n",
       "  <thead>\n",
       "    <tr style=\"text-align: right;\">\n",
       "      <th></th>\n",
       "      <th>POSTAL</th>\n",
       "      <th>ADDRESS</th>\n",
       "      <th>BLK_NO</th>\n",
       "      <th>BUILDING</th>\n",
       "      <th>ROAD_NAME</th>\n",
       "      <th>LATITUDE</th>\n",
       "      <th>LONGITUDE</th>\n",
       "      <th>SOURCE</th>\n",
       "      <th>URL</th>\n",
       "      <th>SOURCE_2</th>\n",
       "      <th>URL_2</th>\n",
       "      <th>postal_int</th>\n",
       "    </tr>\n",
       "  </thead>\n",
       "  <tbody>\n",
       "    <tr>\n",
       "      <th>61873</th>\n",
       "      <td>000000</td>\n",
       "      <td>EAST COAST PARK AREA D</td>\n",
       "      <td>&lt;NA&gt;</td>\n",
       "      <td>EAST COAST PARK AREA D</td>\n",
       "      <td>NIL</td>\n",
       "      <td>1.304326</td>\n",
       "      <td>103.924756</td>\n",
       "      <td>OneMap</td>\n",
       "      <td>https://www.onemap.gov.sg/apidocs/search</td>\n",
       "      <td>&lt;NA&gt;</td>\n",
       "      <td>https://github.com/xuancong84/singapore-addres...</td>\n",
       "      <td>0</td>\n",
       "    </tr>\n",
       "    <tr>\n",
       "      <th>61874</th>\n",
       "      <td>000000</td>\n",
       "      <td>EAST COAST PARK AREA F</td>\n",
       "      <td>&lt;NA&gt;</td>\n",
       "      <td>EAST COAST PARK AREA F</td>\n",
       "      <td>NIL</td>\n",
       "      <td>1.309725</td>\n",
       "      <td>103.942954</td>\n",
       "      <td>OneMap</td>\n",
       "      <td>https://www.onemap.gov.sg/apidocs/search</td>\n",
       "      <td>&lt;NA&gt;</td>\n",
       "      <td>https://github.com/xuancong84/singapore-addres...</td>\n",
       "      <td>0</td>\n",
       "    </tr>\n",
       "    <tr>\n",
       "      <th>61875</th>\n",
       "      <td>000000</td>\n",
       "      <td>EAST COAST PARK AREA H</td>\n",
       "      <td>&lt;NA&gt;</td>\n",
       "      <td>EAST COAST PARK AREA H</td>\n",
       "      <td>NIL</td>\n",
       "      <td>1.315969</td>\n",
       "      <td>103.968754</td>\n",
       "      <td>OneMap</td>\n",
       "      <td>https://www.onemap.gov.sg/apidocs/search</td>\n",
       "      <td>&lt;NA&gt;</td>\n",
       "      <td>https://github.com/xuancong84/singapore-addres...</td>\n",
       "      <td>0</td>\n",
       "    </tr>\n",
       "    <tr>\n",
       "      <th>61876</th>\n",
       "      <td>000000</td>\n",
       "      <td>EAST COAST PARK AREA A</td>\n",
       "      <td>&lt;NA&gt;</td>\n",
       "      <td>EAST COAST PARK AREA A</td>\n",
       "      <td>NIL</td>\n",
       "      <td>1.294438</td>\n",
       "      <td>103.872537</td>\n",
       "      <td>OneMap</td>\n",
       "      <td>https://www.onemap.gov.sg/apidocs/search</td>\n",
       "      <td>&lt;NA&gt;</td>\n",
       "      <td>https://github.com/xuancong84/singapore-addres...</td>\n",
       "      <td>0</td>\n",
       "    </tr>\n",
       "    <tr>\n",
       "      <th>61877</th>\n",
       "      <td>000000</td>\n",
       "      <td>EAST COAST PARK AREA C</td>\n",
       "      <td>&lt;NA&gt;</td>\n",
       "      <td>EAST COAST PARK AREA C</td>\n",
       "      <td>NIL</td>\n",
       "      <td>1.299275</td>\n",
       "      <td>103.907833</td>\n",
       "      <td>OneMap</td>\n",
       "      <td>https://www.onemap.gov.sg/apidocs/search</td>\n",
       "      <td>&lt;NA&gt;</td>\n",
       "      <td>https://github.com/xuancong84/singapore-addres...</td>\n",
       "      <td>0</td>\n",
       "    </tr>\n",
       "    <tr>\n",
       "      <th>61878</th>\n",
       "      <td>000000</td>\n",
       "      <td>EAST COAST PARK AREA B</td>\n",
       "      <td>&lt;NA&gt;</td>\n",
       "      <td>EAST COAST PARK AREA B</td>\n",
       "      <td>NIL</td>\n",
       "      <td>1.296658</td>\n",
       "      <td>103.899697</td>\n",
       "      <td>OneMap</td>\n",
       "      <td>https://www.onemap.gov.sg/apidocs/search</td>\n",
       "      <td>&lt;NA&gt;</td>\n",
       "      <td>https://github.com/xuancong84/singapore-addres...</td>\n",
       "      <td>0</td>\n",
       "    </tr>\n",
       "    <tr>\n",
       "      <th>61879</th>\n",
       "      <td>000000</td>\n",
       "      <td>EAST COAST PARK AREA E</td>\n",
       "      <td>&lt;NA&gt;</td>\n",
       "      <td>EAST COAST PARK AREA E</td>\n",
       "      <td>NIL</td>\n",
       "      <td>1.306722</td>\n",
       "      <td>103.933589</td>\n",
       "      <td>OneMap</td>\n",
       "      <td>https://www.onemap.gov.sg/apidocs/search</td>\n",
       "      <td>&lt;NA&gt;</td>\n",
       "      <td>https://github.com/xuancong84/singapore-addres...</td>\n",
       "      <td>0</td>\n",
       "    </tr>\n",
       "    <tr>\n",
       "      <th>61880</th>\n",
       "      <td>000000</td>\n",
       "      <td>EAST COAST PARK AREA G</td>\n",
       "      <td>&lt;NA&gt;</td>\n",
       "      <td>EAST COAST PARK AREA G</td>\n",
       "      <td>NIL</td>\n",
       "      <td>1.313445</td>\n",
       "      <td>103.957814</td>\n",
       "      <td>OneMap</td>\n",
       "      <td>https://www.onemap.gov.sg/apidocs/search</td>\n",
       "      <td>&lt;NA&gt;</td>\n",
       "      <td>https://github.com/xuancong84/singapore-addres...</td>\n",
       "      <td>0</td>\n",
       "    </tr>\n",
       "    <tr>\n",
       "      <th>61881</th>\n",
       "      <td>000000</td>\n",
       "      <td>EAST COAST PARK SERVICE ROAD 9KM</td>\n",
       "      <td>&lt;NA&gt;</td>\n",
       "      <td>EAST COAST PARK SERVICE ROAD 9KM</td>\n",
       "      <td>NIL</td>\n",
       "      <td>1.303606</td>\n",
       "      <td>103.919575</td>\n",
       "      <td>OneMap</td>\n",
       "      <td>https://www.onemap.gov.sg/apidocs/search</td>\n",
       "      <td>&lt;NA&gt;</td>\n",
       "      <td>https://github.com/xuancong84/singapore-addres...</td>\n",
       "      <td>0</td>\n",
       "    </tr>\n",
       "  </tbody>\n",
       "</table>\n",
       "</div>"
      ],
      "text/plain": [
       "\n",
       "       POSTAL                             ADDRESS BLK_NO  \\\n",
       "\u001b[1;36m61873\u001b[0m  \u001b[1;36m000000\u001b[0m             EAST COAST PARK AREA D    \u001b[1m<\u001b[0m\u001b[1;95mNA\u001b[0m\u001b[39m>   \u001b[0m\n",
       "\u001b[1;36m61874\u001b[0m\u001b[39m  \u001b[0m\u001b[1;36m000000\u001b[0m\u001b[39m             EAST COAST PARK AREA F    <NA>   \u001b[0m\n",
       "\u001b[1;36m61875\u001b[0m\u001b[39m  \u001b[0m\u001b[1;36m000000\u001b[0m\u001b[39m             EAST COAST PARK AREA H    <NA>   \u001b[0m\n",
       "\u001b[1;36m61876\u001b[0m\u001b[39m  \u001b[0m\u001b[1;36m000000\u001b[0m\u001b[39m             EAST COAST PARK AREA A    <NA>   \u001b[0m\n",
       "\u001b[1;36m61877\u001b[0m\u001b[39m  \u001b[0m\u001b[1;36m000000\u001b[0m\u001b[39m             EAST COAST PARK AREA C    <NA>   \u001b[0m\n",
       "\u001b[1;36m61878\u001b[0m\u001b[39m  \u001b[0m\u001b[1;36m000000\u001b[0m\u001b[39m             EAST COAST PARK AREA B    <NA>   \u001b[0m\n",
       "\u001b[1;36m61879\u001b[0m\u001b[39m  \u001b[0m\u001b[1;36m000000\u001b[0m\u001b[39m             EAST COAST PARK AREA E    <NA>   \u001b[0m\n",
       "\u001b[1;36m61880\u001b[0m\u001b[39m  \u001b[0m\u001b[1;36m000000\u001b[0m\u001b[39m             EAST COAST PARK AREA G    <NA>   \u001b[0m\n",
       "\u001b[1;36m61881\u001b[0m\u001b[39m  \u001b[0m\u001b[1;36m000000\u001b[0m\u001b[39m   EAST COAST PARK SERVICE ROAD 9KM    <NA>   \u001b[0m\n",
       "\n",
       "\u001b[39m                               BUILDING ROAD_NAME  LATITUDE   LONGITUDE  \\\u001b[0m\n",
       "\u001b[1;36m61873\u001b[0m\u001b[39m            EAST COAST PARK AREA D       NIL  \u001b[0m\u001b[1;36m1.304326\u001b[0m\u001b[39m  \u001b[0m\u001b[1;36m103.924756\u001b[0m\u001b[39m   \u001b[0m\n",
       "\u001b[1;36m61874\u001b[0m\u001b[39m            EAST COAST PARK AREA F       NIL  \u001b[0m\u001b[1;36m1.309725\u001b[0m\u001b[39m  \u001b[0m\u001b[1;36m103.942954\u001b[0m\u001b[39m   \u001b[0m\n",
       "\u001b[1;36m61875\u001b[0m\u001b[39m            EAST COAST PARK AREA H       NIL  \u001b[0m\u001b[1;36m1.315969\u001b[0m\u001b[39m  \u001b[0m\u001b[1;36m103.968754\u001b[0m\u001b[39m   \u001b[0m\n",
       "\u001b[1;36m61876\u001b[0m\u001b[39m            EAST COAST PARK AREA A       NIL  \u001b[0m\u001b[1;36m1.294438\u001b[0m\u001b[39m  \u001b[0m\u001b[1;36m103.872537\u001b[0m\u001b[39m   \u001b[0m\n",
       "\u001b[1;36m61877\u001b[0m\u001b[39m            EAST COAST PARK AREA C       NIL  \u001b[0m\u001b[1;36m1.299275\u001b[0m\u001b[39m  \u001b[0m\u001b[1;36m103.907833\u001b[0m\u001b[39m   \u001b[0m\n",
       "\u001b[1;36m61878\u001b[0m\u001b[39m            EAST COAST PARK AREA B       NIL  \u001b[0m\u001b[1;36m1.296658\u001b[0m\u001b[39m  \u001b[0m\u001b[1;36m103.899697\u001b[0m\u001b[39m   \u001b[0m\n",
       "\u001b[1;36m61879\u001b[0m\u001b[39m            EAST COAST PARK AREA E       NIL  \u001b[0m\u001b[1;36m1.306722\u001b[0m\u001b[39m  \u001b[0m\u001b[1;36m103.933589\u001b[0m\u001b[39m   \u001b[0m\n",
       "\u001b[1;36m61880\u001b[0m\u001b[39m            EAST COAST PARK AREA G       NIL  \u001b[0m\u001b[1;36m1.313445\u001b[0m\u001b[39m  \u001b[0m\u001b[1;36m103.957814\u001b[0m\u001b[39m   \u001b[0m\n",
       "\u001b[1;36m61881\u001b[0m\u001b[39m  EAST COAST PARK SERVICE ROAD 9KM       NIL  \u001b[0m\u001b[1;36m1.303606\u001b[0m\u001b[39m  \u001b[0m\u001b[1;36m103.919575\u001b[0m\u001b[39m   \u001b[0m\n",
       "\n",
       "\u001b[39m       SOURCE                                       URL SOURCE_2  \\\u001b[0m\n",
       "\u001b[1;36m61873\u001b[0m\u001b[39m  OneMap  \u001b[0m\u001b[4;94mhttps://www.onemap.gov.sg/apidocs/search\u001b[0m\u001b[39m     <NA>   \u001b[0m\n",
       "\u001b[1;36m61874\u001b[0m\u001b[39m  OneMap  \u001b[0m\u001b[4;94mhttps://www.onemap.gov.sg/apidocs/search\u001b[0m\u001b[39m     <NA>   \u001b[0m\n",
       "\u001b[1;36m61875\u001b[0m\u001b[39m  OneMap  \u001b[0m\u001b[4;94mhttps://www.onemap.gov.sg/apidocs/search\u001b[0m\u001b[39m     <NA>   \u001b[0m\n",
       "\u001b[1;36m61876\u001b[0m\u001b[39m  OneMap  \u001b[0m\u001b[4;94mhttps://www.onemap.gov.sg/apidocs/search\u001b[0m\u001b[39m     <NA>   \u001b[0m\n",
       "\u001b[1;36m61877\u001b[0m\u001b[39m  OneMap  \u001b[0m\u001b[4;94mhttps://www.onemap.gov.sg/apidocs/search\u001b[0m\u001b[39m     <NA>   \u001b[0m\n",
       "\u001b[1;36m61878\u001b[0m\u001b[39m  OneMap  \u001b[0m\u001b[4;94mhttps://www.onemap.gov.sg/apidocs/search\u001b[0m\u001b[39m     <NA>   \u001b[0m\n",
       "\u001b[1;36m61879\u001b[0m\u001b[39m  OneMap  \u001b[0m\u001b[4;94mhttps://www.onemap.gov.sg/apidocs/search\u001b[0m\u001b[39m     <NA>   \u001b[0m\n",
       "\u001b[1;36m61880\u001b[0m\u001b[39m  OneMap  \u001b[0m\u001b[4;94mhttps://www.onemap.gov.sg/apidocs/search\u001b[0m\u001b[39m     <NA>   \u001b[0m\n",
       "\u001b[1;36m61881\u001b[0m\u001b[39m  OneMap  \u001b[0m\u001b[4;94mhttps://www.onemap.gov.sg/apidocs/search\u001b[0m\u001b[39m     <NA\u001b[0m\u001b[1m>\u001b[0m   \n",
       "\n",
       "                                                   URL_2  postal_int  \n",
       "\u001b[1;36m61873\u001b[0m  \u001b[4;94mhttps://github.com/xuancong84/singapore-addres...\u001b[0m           \u001b[1;36m0\u001b[0m  \n",
       "\u001b[1;36m61874\u001b[0m  \u001b[4;94mhttps://github.com/xuancong84/singapore-addres...\u001b[0m           \u001b[1;36m0\u001b[0m  \n",
       "\u001b[1;36m61875\u001b[0m  \u001b[4;94mhttps://github.com/xuancong84/singapore-addres...\u001b[0m           \u001b[1;36m0\u001b[0m  \n",
       "\u001b[1;36m61876\u001b[0m  \u001b[4;94mhttps://github.com/xuancong84/singapore-addres...\u001b[0m           \u001b[1;36m0\u001b[0m  \n",
       "\u001b[1;36m61877\u001b[0m  \u001b[4;94mhttps://github.com/xuancong84/singapore-addres...\u001b[0m           \u001b[1;36m0\u001b[0m  \n",
       "\u001b[1;36m61878\u001b[0m  \u001b[4;94mhttps://github.com/xuancong84/singapore-addres...\u001b[0m           \u001b[1;36m0\u001b[0m  \n",
       "\u001b[1;36m61879\u001b[0m  \u001b[4;94mhttps://github.com/xuancong84/singapore-addres...\u001b[0m           \u001b[1;36m0\u001b[0m  \n",
       "\u001b[1;36m61880\u001b[0m  \u001b[4;94mhttps://github.com/xuancong84/singapore-addres...\u001b[0m           \u001b[1;36m0\u001b[0m  \n",
       "\u001b[1;36m61881\u001b[0m  \u001b[4;94mhttps://github.com/xuancong84/singapore-addres...\u001b[0m           \u001b[1;36m0\u001b[0m  "
      ]
     },
     "execution_count": 4,
     "metadata": {},
     "output_type": "execute_result"
    }
   ],
   "source": [
    "postal_codes = catalog.load(\"singapore_postcodes_geocoded\")\n",
    "postal_codes = postal_codes.assign(postal_int = postal_codes[\"POSTAL\"].astype(int))\n",
    "postal_codes.loc[postal_codes[\"postal_int\"] == 0]"
   ]
  },
  {
   "cell_type": "code",
   "execution_count": 5,
   "metadata": {},
   "outputs": [
    {
     "data": {
      "text/html": [
       "<pre style=\"white-space:pre;overflow-x:auto;line-height:normal;font-family:Menlo,'DejaVu Sans Mono',consolas,'Courier New',monospace\"></pre>\n"
      ],
      "text/plain": []
     },
     "metadata": {},
     "output_type": "display_data"
    },
    {
     "data": {
      "text/plain": [
       "\n",
       "count    \u001b[1;36m142228.000000\u001b[0m\n",
       "mean     \u001b[1;36m467229.920135\u001b[0m\n",
       "std      \u001b[1;36m197155.677436\u001b[0m\n",
       "min       \u001b[1;36m18906.000000\u001b[0m\n",
       "\u001b[1;36m25\u001b[0m%      \u001b[1;36m308603.000000\u001b[0m\n",
       "\u001b[1;36m50\u001b[0m%      \u001b[1;36m469903.500000\u001b[0m\n",
       "\u001b[1;36m75\u001b[0m%      \u001b[1;36m596496.000000\u001b[0m\n",
       "max      \u001b[1;36m918146.000000\u001b[0m\n",
       "Name: postal_int, dtype: float64"
      ]
     },
     "execution_count": 5,
     "metadata": {},
     "output_type": "execute_result"
    }
   ],
   "source": [
    "postal_codes.loc[postal_codes[\"postal_int\"] > 0][\"postal_int\"].describe()"
   ]
  },
  {
   "cell_type": "code",
   "execution_count": null,
   "metadata": {},
   "outputs": [],
   "source": []
  }
 ],
 "metadata": {
  "kernelspec": {
   "display_name": ".venv",
   "language": "python",
   "name": "python3"
  },
  "language_info": {
   "codemirror_mode": {
    "name": "ipython",
    "version": 3
   },
   "file_extension": ".py",
   "mimetype": "text/x-python",
   "name": "python",
   "nbconvert_exporter": "python",
   "pygments_lexer": "ipython3",
   "version": "3.12.7"
  }
 },
 "nbformat": 4,
 "nbformat_minor": 2
}
