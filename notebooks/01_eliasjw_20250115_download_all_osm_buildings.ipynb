{
 "cells": [
  {
   "cell_type": "markdown",
   "metadata": {},
   "source": [
    "# Download OSM building using PYROSM\n",
    "\n",
    "As per title...\n",
    "\n",
    "See https://pyrosm.readthedocs.io/en/latest/basics.html\n",
    "\n",
    "Only 17% of buildings have postal codes."
   ]
  },
  {
   "cell_type": "code",
   "execution_count": 3,
   "metadata": {},
   "outputs": [
    {
     "name": "stdout",
     "output_type": "stream",
     "text": [
      "The kedro.ipython extension is already loaded. To reload it, use:\n",
      "  %reload_ext kedro.ipython\n"
     ]
    },
    {
     "data": {
      "text/html": [
       "<pre style=\"white-space:pre;overflow-x:auto;line-height:normal;font-family:Menlo,'DejaVu Sans Mono',consolas,'Courier New',monospace\"><span style=\"color: #7fbfbf; text-decoration-color: #7fbfbf\">[01/22/25 22:21:11] </span><span style=\"color: #000080; text-decoration-color: #000080\">INFO    </span> Resolved project path as:                                              <a href=\"file:///Users/ejwillemse/dev/projects/second_order_ai/singapore-postcode-geocoding/.venv/lib/python3.12/site-packages/kedro/ipython/__init__.py\" target=\"_blank\"><span style=\"color: #7f7f7f; text-decoration-color: #7f7f7f\">__init__.py</span></a><span style=\"color: #7f7f7f; text-decoration-color: #7f7f7f\">:</span><a href=\"file:///Users/ejwillemse/dev/projects/second_order_ai/singapore-postcode-geocoding/.venv/lib/python3.12/site-packages/kedro/ipython/__init__.py#178\" target=\"_blank\"><span style=\"color: #7f7f7f; text-decoration-color: #7f7f7f\">178</span></a>\n",
       "<span style=\"color: #7fbfbf; text-decoration-color: #7fbfbf\">                    </span>         <span style=\"color: #800080; text-decoration-color: #800080\">/Users/ejwillemse/dev/projects/second_order_ai/</span><span style=\"color: #ff00ff; text-decoration-color: #ff00ff\">singapore-postcode-geoc</span> <span style=\"color: #7f7f7f; text-decoration-color: #7f7f7f\">               </span>\n",
       "<span style=\"color: #7fbfbf; text-decoration-color: #7fbfbf\">                    </span>         <span style=\"color: #ff00ff; text-decoration-color: #ff00ff\">oding.</span>                                                                 <span style=\"color: #7f7f7f; text-decoration-color: #7f7f7f\">               </span>\n",
       "<span style=\"color: #7fbfbf; text-decoration-color: #7fbfbf\">                    </span>         To set a different path, run <span style=\"color: #008000; text-decoration-color: #008000\">'%reload_kedro &lt;project_root&gt;'</span>            <span style=\"color: #7f7f7f; text-decoration-color: #7f7f7f\">               </span>\n",
       "</pre>\n"
      ],
      "text/plain": [
       "\u001b[2;36m[01/22/25 22:21:11]\u001b[0m\u001b[2;36m \u001b[0m\u001b[34mINFO    \u001b[0m Resolved project path as:                                              \u001b]8;id=758814;file:///Users/ejwillemse/dev/projects/second_order_ai/singapore-postcode-geocoding/.venv/lib/python3.12/site-packages/kedro/ipython/__init__.py\u001b\\\u001b[2m__init__.py\u001b[0m\u001b]8;;\u001b\\\u001b[2m:\u001b[0m\u001b]8;id=405459;file:///Users/ejwillemse/dev/projects/second_order_ai/singapore-postcode-geocoding/.venv/lib/python3.12/site-packages/kedro/ipython/__init__.py#178\u001b\\\u001b[2m178\u001b[0m\u001b]8;;\u001b\\\n",
       "\u001b[2;36m                    \u001b[0m         \u001b[35m/Users/ejwillemse/dev/projects/second_order_ai/\u001b[0m\u001b[95msingapore-postcode-geoc\u001b[0m \u001b[2m               \u001b[0m\n",
       "\u001b[2;36m                    \u001b[0m         \u001b[95moding.\u001b[0m                                                                 \u001b[2m               \u001b[0m\n",
       "\u001b[2;36m                    \u001b[0m         To set a different path, run \u001b[32m'%reload_kedro \u001b[0m\u001b[32m<\u001b[0m\u001b[32mproject_root\u001b[0m\u001b[32m>\u001b[0m\u001b[32m'\u001b[0m            \u001b[2m               \u001b[0m\n"
      ]
     },
     "metadata": {},
     "output_type": "display_data"
    },
    {
     "data": {
      "text/html": [
       "<pre style=\"white-space:pre;overflow-x:auto;line-height:normal;font-family:Menlo,'DejaVu Sans Mono',consolas,'Courier New',monospace\"><span style=\"color: #7fbfbf; text-decoration-color: #7fbfbf\">                    </span><span style=\"color: #000080; text-decoration-color: #000080\">INFO    </span> Kedro project singapore-postcode-geocoding                             <a href=\"file:///Users/ejwillemse/dev/projects/second_order_ai/singapore-postcode-geocoding/.venv/lib/python3.12/site-packages/kedro/ipython/__init__.py\" target=\"_blank\"><span style=\"color: #7f7f7f; text-decoration-color: #7f7f7f\">__init__.py</span></a><span style=\"color: #7f7f7f; text-decoration-color: #7f7f7f\">:</span><a href=\"file:///Users/ejwillemse/dev/projects/second_order_ai/singapore-postcode-geocoding/.venv/lib/python3.12/site-packages/kedro/ipython/__init__.py#144\" target=\"_blank\"><span style=\"color: #7f7f7f; text-decoration-color: #7f7f7f\">144</span></a>\n",
       "</pre>\n"
      ],
      "text/plain": [
       "\u001b[2;36m                   \u001b[0m\u001b[2;36m \u001b[0m\u001b[34mINFO    \u001b[0m Kedro project singapore-postcode-geocoding                             \u001b]8;id=723196;file:///Users/ejwillemse/dev/projects/second_order_ai/singapore-postcode-geocoding/.venv/lib/python3.12/site-packages/kedro/ipython/__init__.py\u001b\\\u001b[2m__init__.py\u001b[0m\u001b]8;;\u001b\\\u001b[2m:\u001b[0m\u001b]8;id=824380;file:///Users/ejwillemse/dev/projects/second_order_ai/singapore-postcode-geocoding/.venv/lib/python3.12/site-packages/kedro/ipython/__init__.py#144\u001b\\\u001b[2m144\u001b[0m\u001b]8;;\u001b\\\n"
      ]
     },
     "metadata": {},
     "output_type": "display_data"
    },
    {
     "data": {
      "text/html": [
       "<pre style=\"white-space:pre;overflow-x:auto;line-height:normal;font-family:Menlo,'DejaVu Sans Mono',consolas,'Courier New',monospace\"><span style=\"color: #7fbfbf; text-decoration-color: #7fbfbf\">                    </span><span style=\"color: #000080; text-decoration-color: #000080\">INFO    </span> Defined global variable <span style=\"color: #008000; text-decoration-color: #008000\">'context'</span>, <span style=\"color: #008000; text-decoration-color: #008000\">'session'</span>, <span style=\"color: #008000; text-decoration-color: #008000\">'catalog'</span> and            <a href=\"file:///Users/ejwillemse/dev/projects/second_order_ai/singapore-postcode-geocoding/.venv/lib/python3.12/site-packages/kedro/ipython/__init__.py\" target=\"_blank\"><span style=\"color: #7f7f7f; text-decoration-color: #7f7f7f\">__init__.py</span></a><span style=\"color: #7f7f7f; text-decoration-color: #7f7f7f\">:</span><a href=\"file:///Users/ejwillemse/dev/projects/second_order_ai/singapore-postcode-geocoding/.venv/lib/python3.12/site-packages/kedro/ipython/__init__.py#145\" target=\"_blank\"><span style=\"color: #7f7f7f; text-decoration-color: #7f7f7f\">145</span></a>\n",
       "<span style=\"color: #7fbfbf; text-decoration-color: #7fbfbf\">                    </span>         <span style=\"color: #008000; text-decoration-color: #008000\">'pipelines'</span>                                                            <span style=\"color: #7f7f7f; text-decoration-color: #7f7f7f\">               </span>\n",
       "</pre>\n"
      ],
      "text/plain": [
       "\u001b[2;36m                   \u001b[0m\u001b[2;36m \u001b[0m\u001b[34mINFO    \u001b[0m Defined global variable \u001b[32m'context'\u001b[0m, \u001b[32m'session'\u001b[0m, \u001b[32m'catalog'\u001b[0m and            \u001b]8;id=504804;file:///Users/ejwillemse/dev/projects/second_order_ai/singapore-postcode-geocoding/.venv/lib/python3.12/site-packages/kedro/ipython/__init__.py\u001b\\\u001b[2m__init__.py\u001b[0m\u001b]8;;\u001b\\\u001b[2m:\u001b[0m\u001b]8;id=143430;file:///Users/ejwillemse/dev/projects/second_order_ai/singapore-postcode-geocoding/.venv/lib/python3.12/site-packages/kedro/ipython/__init__.py#145\u001b\\\u001b[2m145\u001b[0m\u001b]8;;\u001b\\\n",
       "\u001b[2;36m                    \u001b[0m         \u001b[32m'pipelines'\u001b[0m                                                            \u001b[2m               \u001b[0m\n"
      ]
     },
     "metadata": {},
     "output_type": "display_data"
    },
    {
     "data": {
      "text/html": [
       "<pre style=\"white-space:pre;overflow-x:auto;line-height:normal;font-family:Menlo,'DejaVu Sans Mono',consolas,'Courier New',monospace\"><span style=\"color: #7fbfbf; text-decoration-color: #7fbfbf\">                    </span><span style=\"color: #000080; text-decoration-color: #000080\">INFO    </span> Registered line magic <span style=\"color: #008000; text-decoration-color: #008000\">'run_viz'</span>                                        <a href=\"file:///Users/ejwillemse/dev/projects/second_order_ai/singapore-postcode-geocoding/.venv/lib/python3.12/site-packages/kedro/ipython/__init__.py\" target=\"_blank\"><span style=\"color: #7f7f7f; text-decoration-color: #7f7f7f\">__init__.py</span></a><span style=\"color: #7f7f7f; text-decoration-color: #7f7f7f\">:</span><a href=\"file:///Users/ejwillemse/dev/projects/second_order_ai/singapore-postcode-geocoding/.venv/lib/python3.12/site-packages/kedro/ipython/__init__.py#151\" target=\"_blank\"><span style=\"color: #7f7f7f; text-decoration-color: #7f7f7f\">151</span></a>\n",
       "</pre>\n"
      ],
      "text/plain": [
       "\u001b[2;36m                   \u001b[0m\u001b[2;36m \u001b[0m\u001b[34mINFO    \u001b[0m Registered line magic \u001b[32m'run_viz'\u001b[0m                                        \u001b]8;id=89990;file:///Users/ejwillemse/dev/projects/second_order_ai/singapore-postcode-geocoding/.venv/lib/python3.12/site-packages/kedro/ipython/__init__.py\u001b\\\u001b[2m__init__.py\u001b[0m\u001b]8;;\u001b\\\u001b[2m:\u001b[0m\u001b]8;id=3421;file:///Users/ejwillemse/dev/projects/second_order_ai/singapore-postcode-geocoding/.venv/lib/python3.12/site-packages/kedro/ipython/__init__.py#151\u001b\\\u001b[2m151\u001b[0m\u001b]8;;\u001b\\\n"
      ]
     },
     "metadata": {},
     "output_type": "display_data"
    }
   ],
   "source": [
    "%load_ext kedro.ipython\n",
    "%reload_kedro --env=test\n",
    "%load_ext autoreload\n",
    "%autoreload 2\n",
    "%config IPCompleter.use_jedi=False\n",
    "from IPython.core.interactiveshell import InteractiveShell\n",
    "import os\n",
    "import pandas as pd\n",
    "InteractiveShell.ast_node_interactivity = \"all\"\n",
    "os.chdir(context.project_path)\n",
    "catalog = context.catalog\n",
    "params = context.params"
   ]
  },
  {
   "cell_type": "markdown",
   "metadata": {},
   "source": [
    "## Download data"
   ]
  },
  {
   "cell_type": "code",
   "execution_count": 8,
   "metadata": {},
   "outputs": [],
   "source": [
    "import pyrosm\n",
    "fp = pyrosm.get_data(\"Singapore\", directory=\"data/01_raw/\") # guessing...\n",
    "osm = pyrosm.OSM(fp)\n",
    "buildings = osm.get_buildings()"
   ]
  },
  {
   "cell_type": "code",
   "execution_count": 9,
   "metadata": {},
   "outputs": [
    {
     "data": {
      "text/html": [
       "<pre style=\"white-space:pre;overflow-x:auto;line-height:normal;font-family:Menlo,'DejaVu Sans Mono',consolas,'Courier New',monospace\"></pre>\n"
      ],
      "text/plain": []
     },
     "metadata": {},
     "output_type": "display_data"
    },
    {
     "data": {
      "text/plain": [
       "\u001b[1m(\u001b[0m\u001b[1;36m154241\u001b[0m, \u001b[1;36m41\u001b[0m\u001b[1m)\u001b[0m"
      ]
     },
     "execution_count": 9,
     "metadata": {},
     "output_type": "execute_result"
    }
   ],
   "source": [
    "buildings.shape"
   ]
  },
  {
   "cell_type": "code",
   "execution_count": 25,
   "metadata": {},
   "outputs": [
    {
     "name": "stdout",
     "output_type": "stream",
     "text": [
      "<class 'geopandas.geodataframe.GeoDataFrame'>\n",
      "RangeIndex: 154241 entries, 0 to 154240\n",
      "Data columns (total 42 columns):\n",
      " #   Column              Non-Null Count   Dtype   \n",
      "---  ------              --------------   -----   \n",
      " 0   addr:city           49730 non-null   object  \n",
      " 1   addr:country        37283 non-null   object  \n",
      " 2   addr:housenumber    70622 non-null   object  \n",
      " 3   addr:housename      1274 non-null    object  \n",
      " 4   addr:postcode       24979 non-null   object  \n",
      " 5   addr:place          238 non-null     object  \n",
      " 6   addr:street         71637 non-null   object  \n",
      " 7   email               132 non-null     object  \n",
      " 8   name                10105 non-null   object  \n",
      " 9   opening_hours       319 non-null     object  \n",
      " 10  operator            411 non-null     object  \n",
      " 11  phone               322 non-null     object  \n",
      " 12  ref                 93 non-null      object  \n",
      " 13  url                 4 non-null       object  \n",
      " 14  visible             153051 non-null  object  \n",
      " 15  website             601 non-null     object  \n",
      " 16  building            154241 non-null  object  \n",
      " 17  amenity             3865 non-null    object  \n",
      " 18  building:flats      46 non-null      object  \n",
      " 19  building:levels     41088 non-null   object  \n",
      " 20  building:material   1568 non-null    object  \n",
      " 21  building:max_level  3 non-null       object  \n",
      " 22  building:min_level  441 non-null     object  \n",
      " 23  building:use        508 non-null     object  \n",
      " 24  craft               13 non-null      object  \n",
      " 25  height              4161 non-null    object  \n",
      " 26  internet_access     78 non-null      object  \n",
      " 27  landuse             64 non-null      object  \n",
      " 28  office              270 non-null     object  \n",
      " 29  shop                544 non-null     object  \n",
      " 30  source              22796 non-null   object  \n",
      " 31  start_date          4021 non-null    object  \n",
      " 32  wikipedia           422 non-null     object  \n",
      " 33  id                  154241 non-null  int64   \n",
      " 34  timestamp           154241 non-null  uint32  \n",
      " 35  version             154241 non-null  int32   \n",
      " 36  tags                40934 non-null   object  \n",
      " 37  osm_type            154241 non-null  object  \n",
      " 38  geometry            154241 non-null  geometry\n",
      " 39  levels              1 non-null       object  \n",
      " 40  changeset           1190 non-null    float64 \n",
      " 41  postcode            24979 non-null   string  \n",
      "dtypes: float64(1), geometry(1), int32(1), int64(1), object(36), string(1), uint32(1)\n",
      "memory usage: 48.2+ MB\n"
     ]
    }
   ],
   "source": [
    "buildings.info()"
   ]
  },
  {
   "cell_type": "markdown",
   "metadata": {},
   "source": [
    "# Inspect postcodes"
   ]
  },
  {
   "cell_type": "code",
   "execution_count": 19,
   "metadata": {},
   "outputs": [
    {
     "name": "stdout",
     "output_type": "stream",
     "text": [
      "<class 'pandas.core.series.Series'>\n",
      "RangeIndex: 154241 entries, 0 to 154240\n",
      "Series name: postcode\n",
      "Non-Null Count  Dtype \n",
      "--------------  ----- \n",
      "24979 non-null  string\n",
      "dtypes: string(1)\n",
      "memory usage: 1.2 MB\n",
      "None\n",
      "\n",
      " Is NaN:  0.8380521391847823\n"
     ]
    }
   ],
   "source": [
    "buildings = buildings.assign(postcode = buildings[\"addr:postcode\"].astype(\"string\").str.zfill(6))\n",
    "print(buildings[\"postcode\"].info())\n",
    "print(\"\\n Is NaN: \", buildings[\"postcode\"].isna().sum() / buildings.shape[0])"
   ]
  },
  {
   "cell_type": "markdown",
   "metadata": {},
   "source": [
    "## Other fields\n",
    "\n",
    "Maybe it's contained in other fields?\n",
    "\n",
    "But, let's see if there is other useful address info"
   ]
  },
  {
   "cell_type": "code",
   "execution_count": 27,
   "metadata": {},
   "outputs": [
    {
     "name": "stdout",
     "output_type": "stream",
     "text": [
      "non_empty_count\n",
      "0    0.496574\n",
      "1    0.050447\n",
      "2    0.321503\n",
      "3    0.125356\n",
      "4    0.006055\n",
      "5    0.000065\n",
      "dtype: float64\n"
     ]
    }
   ],
   "source": [
    "# Specify the columns to check\n",
    "columns_to_check = [\"addr:housenumber\", \"addr:housename\", \"addr:place\", \"addr:postcode\", \"addr:street\"]\n",
    "\n",
    "# Check for non-empty values and count them\n",
    "buildings = buildings.assign(**{\"non_empty_count\": buildings[columns_to_check].notna().sum(axis=1)})\n",
    "\n",
    "# Group by the count of non-empty values\n",
    "grouped = buildings.groupby('non_empty_count').size()\n",
    "\n",
    "# Print the results\n",
    "print(grouped / buildings.shape[0])"
   ]
  },
  {
   "cell_type": "markdown",
   "metadata": {},
   "source": [
    "About 50% of records have no address related info. Note that there are over 120'000 postcodes, so there could be some info missing in this case."
   ]
  },
  {
   "cell_type": "markdown",
   "metadata": {},
   "source": []
  }
 ],
 "metadata": {
  "kernelspec": {
   "display_name": ".venv",
   "language": "python",
   "name": "python3"
  },
  "language_info": {
   "codemirror_mode": {
    "name": "ipython",
    "version": 3
   },
   "file_extension": ".py",
   "mimetype": "text/x-python",
   "name": "python",
   "nbconvert_exporter": "python",
   "pygments_lexer": "ipython3",
   "version": "3.12.7"
  }
 },
 "nbformat": 4,
 "nbformat_minor": 2
}
