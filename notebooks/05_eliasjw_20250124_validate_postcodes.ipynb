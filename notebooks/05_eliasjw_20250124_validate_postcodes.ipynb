{
 "cells": [
  {
   "cell_type": "markdown",
   "metadata": {},
   "source": [
    "# Inspect final postcodes\n",
    "\n",
    "See what the post code range is, needed to validate against new files."
   ]
  },
  {
   "cell_type": "code",
   "execution_count": 24,
   "metadata": {},
   "outputs": [
    {
     "name": "stdout",
     "output_type": "stream",
     "text": [
      "The kedro.ipython extension is already loaded. To reload it, use:\n",
      "  %reload_ext kedro.ipython\n"
     ]
    },
    {
     "data": {
      "text/html": [
       "<pre style=\"white-space:pre;overflow-x:auto;line-height:normal;font-family:Menlo,'DejaVu Sans Mono',consolas,'Courier New',monospace\"><span style=\"color: #7fbfbf; text-decoration-color: #7fbfbf\">[01/29/25 17:05:28] </span><span style=\"color: #000080; text-decoration-color: #000080\">INFO    </span> Resolved project path as:                                              <a href=\"file:///Users/ejwillemse/dev/projects/second_order_ai/singapore-postcode-geocoding/.venv/lib/python3.12/site-packages/kedro/ipython/__init__.py\" target=\"_blank\"><span style=\"color: #7f7f7f; text-decoration-color: #7f7f7f\">__init__.py</span></a><span style=\"color: #7f7f7f; text-decoration-color: #7f7f7f\">:</span><a href=\"file:///Users/ejwillemse/dev/projects/second_order_ai/singapore-postcode-geocoding/.venv/lib/python3.12/site-packages/kedro/ipython/__init__.py#178\" target=\"_blank\"><span style=\"color: #7f7f7f; text-decoration-color: #7f7f7f\">178</span></a>\n",
       "<span style=\"color: #7fbfbf; text-decoration-color: #7fbfbf\">                    </span>         <span style=\"color: #800080; text-decoration-color: #800080\">/Users/ejwillemse/dev/projects/second_order_ai/</span><span style=\"color: #ff00ff; text-decoration-color: #ff00ff\">singapore-postcode-geoc</span> <span style=\"color: #7f7f7f; text-decoration-color: #7f7f7f\">               </span>\n",
       "<span style=\"color: #7fbfbf; text-decoration-color: #7fbfbf\">                    </span>         <span style=\"color: #ff00ff; text-decoration-color: #ff00ff\">oding.</span>                                                                 <span style=\"color: #7f7f7f; text-decoration-color: #7f7f7f\">               </span>\n",
       "<span style=\"color: #7fbfbf; text-decoration-color: #7fbfbf\">                    </span>         To set a different path, run <span style=\"color: #008000; text-decoration-color: #008000\">'%reload_kedro &lt;project_root&gt;'</span>            <span style=\"color: #7f7f7f; text-decoration-color: #7f7f7f\">               </span>\n",
       "</pre>\n"
      ],
      "text/plain": [
       "\u001b[2;36m[01/29/25 17:05:28]\u001b[0m\u001b[2;36m \u001b[0m\u001b[34mINFO    \u001b[0m Resolved project path as:                                              \u001b]8;id=208239;file:///Users/ejwillemse/dev/projects/second_order_ai/singapore-postcode-geocoding/.venv/lib/python3.12/site-packages/kedro/ipython/__init__.py\u001b\\\u001b[2m__init__.py\u001b[0m\u001b]8;;\u001b\\\u001b[2m:\u001b[0m\u001b]8;id=621658;file:///Users/ejwillemse/dev/projects/second_order_ai/singapore-postcode-geocoding/.venv/lib/python3.12/site-packages/kedro/ipython/__init__.py#178\u001b\\\u001b[2m178\u001b[0m\u001b]8;;\u001b\\\n",
       "\u001b[2;36m                    \u001b[0m         \u001b[35m/Users/ejwillemse/dev/projects/second_order_ai/\u001b[0m\u001b[95msingapore-postcode-geoc\u001b[0m \u001b[2m               \u001b[0m\n",
       "\u001b[2;36m                    \u001b[0m         \u001b[95moding.\u001b[0m                                                                 \u001b[2m               \u001b[0m\n",
       "\u001b[2;36m                    \u001b[0m         To set a different path, run \u001b[32m'%reload_kedro \u001b[0m\u001b[32m<\u001b[0m\u001b[32mproject_root\u001b[0m\u001b[32m>\u001b[0m\u001b[32m'\u001b[0m            \u001b[2m               \u001b[0m\n"
      ]
     },
     "metadata": {},
     "output_type": "display_data"
    },
    {
     "data": {
      "text/html": [
       "<pre style=\"white-space:pre;overflow-x:auto;line-height:normal;font-family:Menlo,'DejaVu Sans Mono',consolas,'Courier New',monospace\"><span style=\"color: #7fbfbf; text-decoration-color: #7fbfbf\">[01/29/25 17:05:29] </span><span style=\"color: #000080; text-decoration-color: #000080\">INFO    </span> Kedro project singapore-postcode-geocoding                             <a href=\"file:///Users/ejwillemse/dev/projects/second_order_ai/singapore-postcode-geocoding/.venv/lib/python3.12/site-packages/kedro/ipython/__init__.py\" target=\"_blank\"><span style=\"color: #7f7f7f; text-decoration-color: #7f7f7f\">__init__.py</span></a><span style=\"color: #7f7f7f; text-decoration-color: #7f7f7f\">:</span><a href=\"file:///Users/ejwillemse/dev/projects/second_order_ai/singapore-postcode-geocoding/.venv/lib/python3.12/site-packages/kedro/ipython/__init__.py#144\" target=\"_blank\"><span style=\"color: #7f7f7f; text-decoration-color: #7f7f7f\">144</span></a>\n",
       "</pre>\n"
      ],
      "text/plain": [
       "\u001b[2;36m[01/29/25 17:05:29]\u001b[0m\u001b[2;36m \u001b[0m\u001b[34mINFO    \u001b[0m Kedro project singapore-postcode-geocoding                             \u001b]8;id=580999;file:///Users/ejwillemse/dev/projects/second_order_ai/singapore-postcode-geocoding/.venv/lib/python3.12/site-packages/kedro/ipython/__init__.py\u001b\\\u001b[2m__init__.py\u001b[0m\u001b]8;;\u001b\\\u001b[2m:\u001b[0m\u001b]8;id=846156;file:///Users/ejwillemse/dev/projects/second_order_ai/singapore-postcode-geocoding/.venv/lib/python3.12/site-packages/kedro/ipython/__init__.py#144\u001b\\\u001b[2m144\u001b[0m\u001b]8;;\u001b\\\n"
      ]
     },
     "metadata": {},
     "output_type": "display_data"
    },
    {
     "data": {
      "text/html": [
       "<pre style=\"white-space:pre;overflow-x:auto;line-height:normal;font-family:Menlo,'DejaVu Sans Mono',consolas,'Courier New',monospace\"><span style=\"color: #7fbfbf; text-decoration-color: #7fbfbf\">                    </span><span style=\"color: #000080; text-decoration-color: #000080\">INFO    </span> Defined global variable <span style=\"color: #008000; text-decoration-color: #008000\">'context'</span>, <span style=\"color: #008000; text-decoration-color: #008000\">'session'</span>, <span style=\"color: #008000; text-decoration-color: #008000\">'catalog'</span> and            <a href=\"file:///Users/ejwillemse/dev/projects/second_order_ai/singapore-postcode-geocoding/.venv/lib/python3.12/site-packages/kedro/ipython/__init__.py\" target=\"_blank\"><span style=\"color: #7f7f7f; text-decoration-color: #7f7f7f\">__init__.py</span></a><span style=\"color: #7f7f7f; text-decoration-color: #7f7f7f\">:</span><a href=\"file:///Users/ejwillemse/dev/projects/second_order_ai/singapore-postcode-geocoding/.venv/lib/python3.12/site-packages/kedro/ipython/__init__.py#145\" target=\"_blank\"><span style=\"color: #7f7f7f; text-decoration-color: #7f7f7f\">145</span></a>\n",
       "<span style=\"color: #7fbfbf; text-decoration-color: #7fbfbf\">                    </span>         <span style=\"color: #008000; text-decoration-color: #008000\">'pipelines'</span>                                                            <span style=\"color: #7f7f7f; text-decoration-color: #7f7f7f\">               </span>\n",
       "</pre>\n"
      ],
      "text/plain": [
       "\u001b[2;36m                   \u001b[0m\u001b[2;36m \u001b[0m\u001b[34mINFO    \u001b[0m Defined global variable \u001b[32m'context'\u001b[0m, \u001b[32m'session'\u001b[0m, \u001b[32m'catalog'\u001b[0m and            \u001b]8;id=581113;file:///Users/ejwillemse/dev/projects/second_order_ai/singapore-postcode-geocoding/.venv/lib/python3.12/site-packages/kedro/ipython/__init__.py\u001b\\\u001b[2m__init__.py\u001b[0m\u001b]8;;\u001b\\\u001b[2m:\u001b[0m\u001b]8;id=346057;file:///Users/ejwillemse/dev/projects/second_order_ai/singapore-postcode-geocoding/.venv/lib/python3.12/site-packages/kedro/ipython/__init__.py#145\u001b\\\u001b[2m145\u001b[0m\u001b]8;;\u001b\\\n",
       "\u001b[2;36m                    \u001b[0m         \u001b[32m'pipelines'\u001b[0m                                                            \u001b[2m               \u001b[0m\n"
      ]
     },
     "metadata": {},
     "output_type": "display_data"
    },
    {
     "data": {
      "text/html": [
       "<pre style=\"white-space:pre;overflow-x:auto;line-height:normal;font-family:Menlo,'DejaVu Sans Mono',consolas,'Courier New',monospace\"><span style=\"color: #7fbfbf; text-decoration-color: #7fbfbf\">                    </span><span style=\"color: #000080; text-decoration-color: #000080\">INFO    </span> Registered line magic <span style=\"color: #008000; text-decoration-color: #008000\">'run_viz'</span>                                        <a href=\"file:///Users/ejwillemse/dev/projects/second_order_ai/singapore-postcode-geocoding/.venv/lib/python3.12/site-packages/kedro/ipython/__init__.py\" target=\"_blank\"><span style=\"color: #7f7f7f; text-decoration-color: #7f7f7f\">__init__.py</span></a><span style=\"color: #7f7f7f; text-decoration-color: #7f7f7f\">:</span><a href=\"file:///Users/ejwillemse/dev/projects/second_order_ai/singapore-postcode-geocoding/.venv/lib/python3.12/site-packages/kedro/ipython/__init__.py#151\" target=\"_blank\"><span style=\"color: #7f7f7f; text-decoration-color: #7f7f7f\">151</span></a>\n",
       "</pre>\n"
      ],
      "text/plain": [
       "\u001b[2;36m                   \u001b[0m\u001b[2;36m \u001b[0m\u001b[34mINFO    \u001b[0m Registered line magic \u001b[32m'run_viz'\u001b[0m                                        \u001b]8;id=476591;file:///Users/ejwillemse/dev/projects/second_order_ai/singapore-postcode-geocoding/.venv/lib/python3.12/site-packages/kedro/ipython/__init__.py\u001b\\\u001b[2m__init__.py\u001b[0m\u001b]8;;\u001b\\\u001b[2m:\u001b[0m\u001b]8;id=467504;file:///Users/ejwillemse/dev/projects/second_order_ai/singapore-postcode-geocoding/.venv/lib/python3.12/site-packages/kedro/ipython/__init__.py#151\u001b\\\u001b[2m151\u001b[0m\u001b]8;;\u001b\\\n"
      ]
     },
     "metadata": {},
     "output_type": "display_data"
    },
    {
     "name": "stdout",
     "output_type": "stream",
     "text": [
      "The autoreload extension is already loaded. To reload it, use:\n",
      "  %reload_ext autoreload\n"
     ]
    }
   ],
   "source": [
    "%load_ext kedro.ipython\n",
    "%reload_kedro --env=test\n",
    "%load_ext autoreload\n",
    "%autoreload 2\n",
    "%config IPCompleter.use_jedi=False\n",
    "import os\n",
    "\n",
    "from IPython.core.interactiveshell import InteractiveShell\n",
    "\n",
    "InteractiveShell.ast_node_interactivity = \"all\"\n",
    "os.chdir(context.project_path)\n",
    "catalog = context.catalog\n",
    "params = context.params"
   ]
  },
  {
   "cell_type": "markdown",
   "metadata": {},
   "source": [
    "## Inspect data"
   ]
  },
  {
   "cell_type": "code",
   "execution_count": 25,
   "metadata": {},
   "outputs": [],
   "source": [
    "test_datasets = [\n",
    "    \"open_data_postal_code\",\n",
    "    \"sg_postcode_based_via_getdata\",\n",
    "    \"one_map_scrape\",\n",
    "    \"singapore_postcodes_geocoded\",\n",
    "    \"GreenMarkBuildings\",\n",
    "    \"ListofGovernmentMarketsHawkerCentres\",\n",
    "    \"ManagementCorporationStrataTitle\",\n",
    "    \"ListingofBuildingEnergyPerformanceData2020\",\n",
    "    \"HDBCarparkInformation\",\n",
    "    \"HDBPropertyInformation\",\n",
    "    \"RentingOutofFlats2024CSV\",\n",
    "    \"SGOSatelliteOffices\",\n",
    "    \"MCSTinformation\",\n",
    "    \"EntitiesRegisteredwithACRA\",\n",
    "    \"AEDLocations\",\n",
    "    \"ListofSupermarketLicences\",\n",
    "    \"DatesofHawkerCentresClosure\"\n",
    "]"
   ]
  },
  {
   "cell_type": "code",
   "execution_count": 27,
   "metadata": {},
   "outputs": [
    {
     "data": {
      "text/html": [
       "<pre style=\"white-space:pre;overflow-x:auto;line-height:normal;font-family:Menlo,'DejaVu Sans Mono',consolas,'Courier New',monospace\"><span style=\"color: #7fbfbf; text-decoration-color: #7fbfbf\">[01/29/25 17:05:53] </span><span style=\"color: #000080; text-decoration-color: #000080\">INFO    </span> Loading data from <span style=\"color: #ff8700; text-decoration-color: #ff8700\">open_data_postal_code</span> <span style=\"font-weight: bold\">(</span>ParquetDataset<span style=\"font-weight: bold\">)</span><span style=\"color: #808000; text-decoration-color: #808000\">...</span>        <a href=\"file:///Users/ejwillemse/dev/projects/second_order_ai/singapore-postcode-geocoding/.venv/lib/python3.12/site-packages/kedro/io/data_catalog.py\" target=\"_blank\"><span style=\"color: #7f7f7f; text-decoration-color: #7f7f7f\">data_catalog.py</span></a><span style=\"color: #7f7f7f; text-decoration-color: #7f7f7f\">:</span><a href=\"file:///Users/ejwillemse/dev/projects/second_order_ai/singapore-postcode-geocoding/.venv/lib/python3.12/site-packages/kedro/io/data_catalog.py#389\" target=\"_blank\"><span style=\"color: #7f7f7f; text-decoration-color: #7f7f7f\">389</span></a>\n",
       "</pre>\n"
      ],
      "text/plain": [
       "\u001b[2;36m[01/29/25 17:05:53]\u001b[0m\u001b[2;36m \u001b[0m\u001b[34mINFO    \u001b[0m Loading data from \u001b[38;5;208mopen_data_postal_code\u001b[0m \u001b[1m(\u001b[0mParquetDataset\u001b[1m)\u001b[0m\u001b[33m...\u001b[0m        \u001b]8;id=186883;file:///Users/ejwillemse/dev/projects/second_order_ai/singapore-postcode-geocoding/.venv/lib/python3.12/site-packages/kedro/io/data_catalog.py\u001b\\\u001b[2mdata_catalog.py\u001b[0m\u001b]8;;\u001b\\\u001b[2m:\u001b[0m\u001b]8;id=24939;file:///Users/ejwillemse/dev/projects/second_order_ai/singapore-postcode-geocoding/.venv/lib/python3.12/site-packages/kedro/io/data_catalog.py#389\u001b\\\u001b[2m389\u001b[0m\u001b]8;;\u001b\\\n"
      ]
     },
     "metadata": {},
     "output_type": "display_data"
    },
    {
     "data": {
      "text/html": [
       "<pre style=\"white-space:pre;overflow-x:auto;line-height:normal;font-family:Menlo,'DejaVu Sans Mono',consolas,'Courier New',monospace\"></pre>\n"
      ],
      "text/plain": []
     },
     "metadata": {},
     "output_type": "display_data"
    },
    {
     "data": {
      "text/html": [
       "<div>\n",
       "<style scoped>\n",
       "    .dataframe tbody tr th:only-of-type {\n",
       "        vertical-align: middle;\n",
       "    }\n",
       "\n",
       "    .dataframe tbody tr th {\n",
       "        vertical-align: top;\n",
       "    }\n",
       "\n",
       "    .dataframe thead th {\n",
       "        text-align: right;\n",
       "    }\n",
       "</style>\n",
       "<table border=\"1\" class=\"dataframe\">\n",
       "  <thead>\n",
       "    <tr style=\"text-align: right;\">\n",
       "      <th></th>\n",
       "      <th>country_code</th>\n",
       "      <th>postal_code</th>\n",
       "      <th>place_name</th>\n",
       "      <th>admin_name1</th>\n",
       "      <th>admin_code1</th>\n",
       "      <th>admin_name2</th>\n",
       "      <th>admin_code2</th>\n",
       "      <th>admin_name3</th>\n",
       "      <th>admin_code3</th>\n",
       "      <th>latitude</th>\n",
       "      <th>longitude</th>\n",
       "      <th>accuracy</th>\n",
       "      <th>coordinates</th>\n",
       "      <th>FORMATTED_POSTCODE</th>\n",
       "      <th>INCORRECT_INPUT_POSTCODE_REASON</th>\n",
       "      <th>CORRECT_INPUT_POSTCODE</th>\n",
       "    </tr>\n",
       "  </thead>\n",
       "  <tbody>\n",
       "  </tbody>\n",
       "</table>\n",
       "</div>"
      ],
      "text/plain": [
       "\n",
       "Empty DataFrame\n",
       "Columns: \u001b[1m[\u001b[0mcountry_code, postal_code, place_name, admin_name1, admin_code1, admin_name2, admin_code2, admin_name3, admin_code3, latitude, longitude, accuracy, coordinates, FORMATTED_POSTCODE, INCORRECT_INPUT_POSTCODE_REASON, CORRECT_INPUT_POSTCODE\u001b[1m]\u001b[0m\n",
       "Index: \u001b[1m[\u001b[0m\u001b[1m]\u001b[0m"
      ]
     },
     "execution_count": 27,
     "metadata": {},
     "output_type": "execute_result"
    }
   ],
   "source": [
    "from singapore_postcode_geocoding.pipelines.data_validation.nodes import validate_and_format_postcodes\n",
    "from copy import deepcopy\n",
    "df = catalog.load(\"open_data_postal_code\")\n",
    "df = df.loc[df[\"country_code\"] == \"SG\"]\n",
    "validated1 = validate_and_format_postcodes(df, input_col=\"postal_code\", postcode_validation_config=params[\"postcode_validation\"])\n",
    "validated1.loc[~validated1[\"CORRECT_INPUT_POSTCODE\"]]"
   ]
  },
  {
   "cell_type": "code",
   "execution_count": 28,
   "metadata": {},
   "outputs": [
    {
     "data": {
      "text/html": [
       "<pre style=\"white-space:pre;overflow-x:auto;line-height:normal;font-family:Menlo,'DejaVu Sans Mono',consolas,'Courier New',monospace\"><span style=\"color: #7fbfbf; text-decoration-color: #7fbfbf\">[01/29/25 17:05:55] </span><span style=\"color: #000080; text-decoration-color: #000080\">INFO    </span> Loading data from <span style=\"color: #ff8700; text-decoration-color: #ff8700\">sg_postcode_based_via_getdata</span> <span style=\"font-weight: bold\">(</span>CSVDataset<span style=\"font-weight: bold\">)</span><span style=\"color: #808000; text-decoration-color: #808000\">...</span>    <a href=\"file:///Users/ejwillemse/dev/projects/second_order_ai/singapore-postcode-geocoding/.venv/lib/python3.12/site-packages/kedro/io/data_catalog.py\" target=\"_blank\"><span style=\"color: #7f7f7f; text-decoration-color: #7f7f7f\">data_catalog.py</span></a><span style=\"color: #7f7f7f; text-decoration-color: #7f7f7f\">:</span><a href=\"file:///Users/ejwillemse/dev/projects/second_order_ai/singapore-postcode-geocoding/.venv/lib/python3.12/site-packages/kedro/io/data_catalog.py#389\" target=\"_blank\"><span style=\"color: #7f7f7f; text-decoration-color: #7f7f7f\">389</span></a>\n",
       "</pre>\n"
      ],
      "text/plain": [
       "\u001b[2;36m[01/29/25 17:05:55]\u001b[0m\u001b[2;36m \u001b[0m\u001b[34mINFO    \u001b[0m Loading data from \u001b[38;5;208msg_postcode_based_via_getdata\u001b[0m \u001b[1m(\u001b[0mCSVDataset\u001b[1m)\u001b[0m\u001b[33m...\u001b[0m    \u001b]8;id=110793;file:///Users/ejwillemse/dev/projects/second_order_ai/singapore-postcode-geocoding/.venv/lib/python3.12/site-packages/kedro/io/data_catalog.py\u001b\\\u001b[2mdata_catalog.py\u001b[0m\u001b]8;;\u001b\\\u001b[2m:\u001b[0m\u001b]8;id=1926;file:///Users/ejwillemse/dev/projects/second_order_ai/singapore-postcode-geocoding/.venv/lib/python3.12/site-packages/kedro/io/data_catalog.py#389\u001b\\\u001b[2m389\u001b[0m\u001b]8;;\u001b\\\n"
      ]
     },
     "metadata": {},
     "output_type": "display_data"
    },
    {
     "data": {
      "text/html": [
       "<pre style=\"white-space:pre;overflow-x:auto;line-height:normal;font-family:Menlo,'DejaVu Sans Mono',consolas,'Courier New',monospace\"></pre>\n"
      ],
      "text/plain": []
     },
     "metadata": {},
     "output_type": "display_data"
    },
    {
     "data": {
      "text/html": [
       "<div>\n",
       "<style scoped>\n",
       "    .dataframe tbody tr th:only-of-type {\n",
       "        vertical-align: middle;\n",
       "    }\n",
       "\n",
       "    .dataframe tbody tr th {\n",
       "        vertical-align: top;\n",
       "    }\n",
       "\n",
       "    .dataframe thead th {\n",
       "        text-align: right;\n",
       "    }\n",
       "</style>\n",
       "<table border=\"1\" class=\"dataframe\">\n",
       "  <thead>\n",
       "    <tr style=\"text-align: right;\">\n",
       "      <th></th>\n",
       "      <th>postcode</th>\n",
       "      <th>postcode_page</th>\n",
       "      <th>address</th>\n",
       "      <th>origin_pattern</th>\n",
       "      <th>origin_url</th>\n",
       "      <th>createdAt</th>\n",
       "      <th>updatedAt</th>\n",
       "      <th>pingedAt</th>\n",
       "      <th>FORMATTED_POSTCODE</th>\n",
       "      <th>INCORRECT_INPUT_POSTCODE_REASON</th>\n",
       "      <th>CORRECT_INPUT_POSTCODE</th>\n",
       "    </tr>\n",
       "  </thead>\n",
       "  <tbody>\n",
       "  </tbody>\n",
       "</table>\n",
       "</div>"
      ],
      "text/plain": [
       "\n",
       "Empty DataFrame\n",
       "Columns: \u001b[1m[\u001b[0mpostcode, postcode_page, address, origin_pattern, origin_url, createdAt, updatedAt, pingedAt, FORMATTED_POSTCODE, INCORRECT_INPUT_POSTCODE_REASON, CORRECT_INPUT_POSTCODE\u001b[1m]\u001b[0m\n",
       "Index: \u001b[1m[\u001b[0m\u001b[1m]\u001b[0m"
      ]
     },
     "execution_count": 28,
     "metadata": {},
     "output_type": "execute_result"
    }
   ],
   "source": [
    "df = catalog.load(\"sg_postcode_based_via_getdata\")\n",
    "validated2 = validate_and_format_postcodes(df,  input_col=\"postcode\", postcode_validation_config=params[\"postcode_validation\"])\n",
    "validated2.loc[~validated2[\"CORRECT_INPUT_POSTCODE\"]]"
   ]
  },
  {
   "cell_type": "code",
   "execution_count": 29,
   "metadata": {},
   "outputs": [
    {
     "data": {
      "text/html": [
       "<pre style=\"white-space:pre;overflow-x:auto;line-height:normal;font-family:Menlo,'DejaVu Sans Mono',consolas,'Courier New',monospace\"><span style=\"color: #7fbfbf; text-decoration-color: #7fbfbf\">[01/29/25 17:05:57] </span><span style=\"color: #000080; text-decoration-color: #000080\">INFO    </span> Loading data from <span style=\"color: #ff8700; text-decoration-color: #ff8700\">one_map_scrape</span> <span style=\"font-weight: bold\">(</span>CSVDataset<span style=\"font-weight: bold\">)</span><span style=\"color: #808000; text-decoration-color: #808000\">...</span>                   <a href=\"file:///Users/ejwillemse/dev/projects/second_order_ai/singapore-postcode-geocoding/.venv/lib/python3.12/site-packages/kedro/io/data_catalog.py\" target=\"_blank\"><span style=\"color: #7f7f7f; text-decoration-color: #7f7f7f\">data_catalog.py</span></a><span style=\"color: #7f7f7f; text-decoration-color: #7f7f7f\">:</span><a href=\"file:///Users/ejwillemse/dev/projects/second_order_ai/singapore-postcode-geocoding/.venv/lib/python3.12/site-packages/kedro/io/data_catalog.py#389\" target=\"_blank\"><span style=\"color: #7f7f7f; text-decoration-color: #7f7f7f\">389</span></a>\n",
       "</pre>\n"
      ],
      "text/plain": [
       "\u001b[2;36m[01/29/25 17:05:57]\u001b[0m\u001b[2;36m \u001b[0m\u001b[34mINFO    \u001b[0m Loading data from \u001b[38;5;208mone_map_scrape\u001b[0m \u001b[1m(\u001b[0mCSVDataset\u001b[1m)\u001b[0m\u001b[33m...\u001b[0m                   \u001b]8;id=913066;file:///Users/ejwillemse/dev/projects/second_order_ai/singapore-postcode-geocoding/.venv/lib/python3.12/site-packages/kedro/io/data_catalog.py\u001b\\\u001b[2mdata_catalog.py\u001b[0m\u001b]8;;\u001b\\\u001b[2m:\u001b[0m\u001b]8;id=897039;file:///Users/ejwillemse/dev/projects/second_order_ai/singapore-postcode-geocoding/.venv/lib/python3.12/site-packages/kedro/io/data_catalog.py#389\u001b\\\u001b[2m389\u001b[0m\u001b]8;;\u001b\\\n"
      ]
     },
     "metadata": {},
     "output_type": "display_data"
    },
    {
     "data": {
      "text/html": [
       "<pre style=\"white-space:pre;overflow-x:auto;line-height:normal;font-family:Menlo,'DejaVu Sans Mono',consolas,'Courier New',monospace\"></pre>\n"
      ],
      "text/plain": []
     },
     "metadata": {},
     "output_type": "display_data"
    },
    {
     "data": {
      "text/html": [
       "<div>\n",
       "<style scoped>\n",
       "    .dataframe tbody tr th:only-of-type {\n",
       "        vertical-align: middle;\n",
       "    }\n",
       "\n",
       "    .dataframe tbody tr th {\n",
       "        vertical-align: top;\n",
       "    }\n",
       "\n",
       "    .dataframe thead th {\n",
       "        text-align: right;\n",
       "    }\n",
       "</style>\n",
       "<table border=\"1\" class=\"dataframe\">\n",
       "  <thead>\n",
       "    <tr style=\"text-align: right;\">\n",
       "      <th></th>\n",
       "      <th>ADDRESS</th>\n",
       "      <th>BLK_NO</th>\n",
       "      <th>BUILDING</th>\n",
       "      <th>LATITUDE</th>\n",
       "      <th>LONGITUDE</th>\n",
       "      <th>POSTAL</th>\n",
       "      <th>ROAD_NAME</th>\n",
       "      <th>X</th>\n",
       "      <th>Y</th>\n",
       "      <th>FORMATTED_POSTCODE</th>\n",
       "      <th>INCORRECT_INPUT_POSTCODE_REASON</th>\n",
       "      <th>CORRECT_INPUT_POSTCODE</th>\n",
       "    </tr>\n",
       "  </thead>\n",
       "  <tbody>\n",
       "    <tr>\n",
       "      <th>61873</th>\n",
       "      <td>EAST COAST PARK AREA D</td>\n",
       "      <td>NaN</td>\n",
       "      <td>EAST COAST PARK AREA D</td>\n",
       "      <td>1.304326</td>\n",
       "      <td>103.924756</td>\n",
       "      <td>0</td>\n",
       "      <td>NIL</td>\n",
       "      <td>38176.15179</td>\n",
       "      <td>31851.45958</td>\n",
       "      <td>&lt;NA&gt;</td>\n",
       "      <td>OUT_OF_RANGE</td>\n",
       "      <td>False</td>\n",
       "    </tr>\n",
       "    <tr>\n",
       "      <th>61874</th>\n",
       "      <td>EAST COAST PARK AREA F</td>\n",
       "      <td>NaN</td>\n",
       "      <td>EAST COAST PARK AREA F</td>\n",
       "      <td>1.309725</td>\n",
       "      <td>103.942954</td>\n",
       "      <td>0</td>\n",
       "      <td>NIL</td>\n",
       "      <td>40201.44578</td>\n",
       "      <td>32448.48354</td>\n",
       "      <td>&lt;NA&gt;</td>\n",
       "      <td>OUT_OF_RANGE</td>\n",
       "      <td>False</td>\n",
       "    </tr>\n",
       "    <tr>\n",
       "      <th>61875</th>\n",
       "      <td>EAST COAST PARK AREA H</td>\n",
       "      <td>NaN</td>\n",
       "      <td>EAST COAST PARK AREA H</td>\n",
       "      <td>1.315969</td>\n",
       "      <td>103.968754</td>\n",
       "      <td>0</td>\n",
       "      <td>NIL</td>\n",
       "      <td>43072.67955</td>\n",
       "      <td>33139.04569</td>\n",
       "      <td>&lt;NA&gt;</td>\n",
       "      <td>OUT_OF_RANGE</td>\n",
       "      <td>False</td>\n",
       "    </tr>\n",
       "    <tr>\n",
       "      <th>61876</th>\n",
       "      <td>EAST COAST PARK AREA A</td>\n",
       "      <td>NaN</td>\n",
       "      <td>EAST COAST PARK AREA A</td>\n",
       "      <td>1.294438</td>\n",
       "      <td>103.872537</td>\n",
       "      <td>0</td>\n",
       "      <td>NIL</td>\n",
       "      <td>32364.68945</td>\n",
       "      <td>30757.90348</td>\n",
       "      <td>&lt;NA&gt;</td>\n",
       "      <td>OUT_OF_RANGE</td>\n",
       "      <td>False</td>\n",
       "    </tr>\n",
       "    <tr>\n",
       "      <th>61877</th>\n",
       "      <td>EAST COAST PARK AREA C</td>\n",
       "      <td>NaN</td>\n",
       "      <td>EAST COAST PARK AREA C</td>\n",
       "      <td>1.299275</td>\n",
       "      <td>103.907833</td>\n",
       "      <td>0</td>\n",
       "      <td>NIL</td>\n",
       "      <td>36292.74588</td>\n",
       "      <td>31292.86088</td>\n",
       "      <td>&lt;NA&gt;</td>\n",
       "      <td>OUT_OF_RANGE</td>\n",
       "      <td>False</td>\n",
       "    </tr>\n",
       "    <tr>\n",
       "      <th>61878</th>\n",
       "      <td>EAST COAST PARK AREA B</td>\n",
       "      <td>NaN</td>\n",
       "      <td>EAST COAST PARK AREA B</td>\n",
       "      <td>1.296658</td>\n",
       "      <td>103.899697</td>\n",
       "      <td>0</td>\n",
       "      <td>NIL</td>\n",
       "      <td>35387.28638</td>\n",
       "      <td>31003.44757</td>\n",
       "      <td>&lt;NA&gt;</td>\n",
       "      <td>OUT_OF_RANGE</td>\n",
       "      <td>False</td>\n",
       "    </tr>\n",
       "    <tr>\n",
       "      <th>61879</th>\n",
       "      <td>EAST COAST PARK AREA E</td>\n",
       "      <td>NaN</td>\n",
       "      <td>EAST COAST PARK AREA E</td>\n",
       "      <td>1.306722</td>\n",
       "      <td>103.933589</td>\n",
       "      <td>0</td>\n",
       "      <td>NIL</td>\n",
       "      <td>39159.13971</td>\n",
       "      <td>32116.38949</td>\n",
       "      <td>&lt;NA&gt;</td>\n",
       "      <td>OUT_OF_RANGE</td>\n",
       "      <td>False</td>\n",
       "    </tr>\n",
       "    <tr>\n",
       "      <th>61880</th>\n",
       "      <td>EAST COAST PARK AREA G</td>\n",
       "      <td>NaN</td>\n",
       "      <td>EAST COAST PARK AREA G</td>\n",
       "      <td>1.313445</td>\n",
       "      <td>103.957814</td>\n",
       "      <td>0</td>\n",
       "      <td>NIL</td>\n",
       "      <td>41855.18426</td>\n",
       "      <td>32859.97333</td>\n",
       "      <td>&lt;NA&gt;</td>\n",
       "      <td>OUT_OF_RANGE</td>\n",
       "      <td>False</td>\n",
       "    </tr>\n",
       "    <tr>\n",
       "      <th>61881</th>\n",
       "      <td>EAST COAST PARK SERVICE ROAD 9KM</td>\n",
       "      <td>NaN</td>\n",
       "      <td>EAST COAST PARK SERVICE ROAD 9KM</td>\n",
       "      <td>1.303606</td>\n",
       "      <td>103.919575</td>\n",
       "      <td>0</td>\n",
       "      <td>NIL</td>\n",
       "      <td>37599.56247</td>\n",
       "      <td>31771.83868</td>\n",
       "      <td>&lt;NA&gt;</td>\n",
       "      <td>OUT_OF_RANGE</td>\n",
       "      <td>False</td>\n",
       "    </tr>\n",
       "  </tbody>\n",
       "</table>\n",
       "</div>"
      ],
      "text/plain": [
       "\n",
       "                                  ADDRESS BLK_NO  \\\n",
       "\u001b[1;36m61873\u001b[0m             EAST COAST PARK AREA D     NaN   \n",
       "\u001b[1;36m61874\u001b[0m             EAST COAST PARK AREA F     NaN   \n",
       "\u001b[1;36m61875\u001b[0m             EAST COAST PARK AREA H     NaN   \n",
       "\u001b[1;36m61876\u001b[0m             EAST COAST PARK AREA A     NaN   \n",
       "\u001b[1;36m61877\u001b[0m             EAST COAST PARK AREA C     NaN   \n",
       "\u001b[1;36m61878\u001b[0m             EAST COAST PARK AREA B     NaN   \n",
       "\u001b[1;36m61879\u001b[0m             EAST COAST PARK AREA E     NaN   \n",
       "\u001b[1;36m61880\u001b[0m             EAST COAST PARK AREA G     NaN   \n",
       "\u001b[1;36m61881\u001b[0m   EAST COAST PARK SERVICE ROAD 9KM     NaN   \n",
       "\n",
       "                               BUILDING  LATITUDE   LONGITUDE  POSTAL  \\\n",
       "\u001b[1;36m61873\u001b[0m            EAST COAST PARK AREA D  \u001b[1;36m1.304326\u001b[0m  \u001b[1;36m103.924756\u001b[0m       \u001b[1;36m0\u001b[0m   \n",
       "\u001b[1;36m61874\u001b[0m            EAST COAST PARK AREA F  \u001b[1;36m1.309725\u001b[0m  \u001b[1;36m103.942954\u001b[0m       \u001b[1;36m0\u001b[0m   \n",
       "\u001b[1;36m61875\u001b[0m            EAST COAST PARK AREA H  \u001b[1;36m1.315969\u001b[0m  \u001b[1;36m103.968754\u001b[0m       \u001b[1;36m0\u001b[0m   \n",
       "\u001b[1;36m61876\u001b[0m            EAST COAST PARK AREA A  \u001b[1;36m1.294438\u001b[0m  \u001b[1;36m103.872537\u001b[0m       \u001b[1;36m0\u001b[0m   \n",
       "\u001b[1;36m61877\u001b[0m            EAST COAST PARK AREA C  \u001b[1;36m1.299275\u001b[0m  \u001b[1;36m103.907833\u001b[0m       \u001b[1;36m0\u001b[0m   \n",
       "\u001b[1;36m61878\u001b[0m            EAST COAST PARK AREA B  \u001b[1;36m1.296658\u001b[0m  \u001b[1;36m103.899697\u001b[0m       \u001b[1;36m0\u001b[0m   \n",
       "\u001b[1;36m61879\u001b[0m            EAST COAST PARK AREA E  \u001b[1;36m1.306722\u001b[0m  \u001b[1;36m103.933589\u001b[0m       \u001b[1;36m0\u001b[0m   \n",
       "\u001b[1;36m61880\u001b[0m            EAST COAST PARK AREA G  \u001b[1;36m1.313445\u001b[0m  \u001b[1;36m103.957814\u001b[0m       \u001b[1;36m0\u001b[0m   \n",
       "\u001b[1;36m61881\u001b[0m  EAST COAST PARK SERVICE ROAD 9KM  \u001b[1;36m1.303606\u001b[0m  \u001b[1;36m103.919575\u001b[0m       \u001b[1;36m0\u001b[0m   \n",
       "\n",
       "      ROAD_NAME            X            Y FORMATTED_POSTCODE  \\\n",
       "\u001b[1;36m61873\u001b[0m       NIL  \u001b[1;36m38176.15179\u001b[0m  \u001b[1;36m31851.45958\u001b[0m               \u001b[1m<\u001b[0m\u001b[1;95mNA\u001b[0m\u001b[39m>   \u001b[0m\n",
       "\u001b[1;36m61874\u001b[0m\u001b[39m       NIL  \u001b[0m\u001b[1;36m40201.44578\u001b[0m\u001b[39m  \u001b[0m\u001b[1;36m32448.48354\u001b[0m\u001b[39m               <NA>   \u001b[0m\n",
       "\u001b[1;36m61875\u001b[0m\u001b[39m       NIL  \u001b[0m\u001b[1;36m43072.67955\u001b[0m\u001b[39m  \u001b[0m\u001b[1;36m33139.04569\u001b[0m\u001b[39m               <NA>   \u001b[0m\n",
       "\u001b[1;36m61876\u001b[0m\u001b[39m       NIL  \u001b[0m\u001b[1;36m32364.68945\u001b[0m\u001b[39m  \u001b[0m\u001b[1;36m30757.90348\u001b[0m\u001b[39m               <NA>   \u001b[0m\n",
       "\u001b[1;36m61877\u001b[0m\u001b[39m       NIL  \u001b[0m\u001b[1;36m36292.74588\u001b[0m\u001b[39m  \u001b[0m\u001b[1;36m31292.86088\u001b[0m\u001b[39m               <NA>   \u001b[0m\n",
       "\u001b[1;36m61878\u001b[0m\u001b[39m       NIL  \u001b[0m\u001b[1;36m35387.28638\u001b[0m\u001b[39m  \u001b[0m\u001b[1;36m31003.44757\u001b[0m\u001b[39m               <NA>   \u001b[0m\n",
       "\u001b[1;36m61879\u001b[0m\u001b[39m       NIL  \u001b[0m\u001b[1;36m39159.13971\u001b[0m\u001b[39m  \u001b[0m\u001b[1;36m32116.38949\u001b[0m\u001b[39m               <NA>   \u001b[0m\n",
       "\u001b[1;36m61880\u001b[0m\u001b[39m       NIL  \u001b[0m\u001b[1;36m41855.18426\u001b[0m\u001b[39m  \u001b[0m\u001b[1;36m32859.97333\u001b[0m\u001b[39m               <NA>   \u001b[0m\n",
       "\u001b[1;36m61881\u001b[0m\u001b[39m       NIL  \u001b[0m\u001b[1;36m37599.56247\u001b[0m\u001b[39m  \u001b[0m\u001b[1;36m31771.83868\u001b[0m\u001b[39m               <NA\u001b[0m\u001b[1m>\u001b[0m   \n",
       "\n",
       "      INCORRECT_INPUT_POSTCODE_REASON  CORRECT_INPUT_POSTCODE  \n",
       "\u001b[1;36m61873\u001b[0m                    OUT_OF_RANGE                   \u001b[3;91mFalse\u001b[0m  \n",
       "\u001b[1;36m61874\u001b[0m                    OUT_OF_RANGE                   \u001b[3;91mFalse\u001b[0m  \n",
       "\u001b[1;36m61875\u001b[0m                    OUT_OF_RANGE                   \u001b[3;91mFalse\u001b[0m  \n",
       "\u001b[1;36m61876\u001b[0m                    OUT_OF_RANGE                   \u001b[3;91mFalse\u001b[0m  \n",
       "\u001b[1;36m61877\u001b[0m                    OUT_OF_RANGE                   \u001b[3;91mFalse\u001b[0m  \n",
       "\u001b[1;36m61878\u001b[0m                    OUT_OF_RANGE                   \u001b[3;91mFalse\u001b[0m  \n",
       "\u001b[1;36m61879\u001b[0m                    OUT_OF_RANGE                   \u001b[3;91mFalse\u001b[0m  \n",
       "\u001b[1;36m61880\u001b[0m                    OUT_OF_RANGE                   \u001b[3;91mFalse\u001b[0m  \n",
       "\u001b[1;36m61881\u001b[0m                    OUT_OF_RANGE                   \u001b[3;91mFalse\u001b[0m  "
      ]
     },
     "execution_count": 29,
     "metadata": {},
     "output_type": "execute_result"
    }
   ],
   "source": [
    "df = catalog.load(\"one_map_scrape\")\n",
    "validated3 = validate_and_format_postcodes(df, input_col=\"POSTAL\", postcode_validation_config=params[\"postcode_validation\"])\n",
    "validated3.loc[~validated3[\"CORRECT_INPUT_POSTCODE\"]]"
   ]
  },
  {
   "cell_type": "code",
   "execution_count": 31,
   "metadata": {},
   "outputs": [
    {
     "data": {
      "text/html": [
       "<pre style=\"white-space:pre;overflow-x:auto;line-height:normal;font-family:Menlo,'DejaVu Sans Mono',consolas,'Courier New',monospace\"></pre>\n"
      ],
      "text/plain": []
     },
     "metadata": {},
     "output_type": "display_data"
    },
    {
     "data": {
      "text/html": [
       "<div>\n",
       "<style scoped>\n",
       "    .dataframe tbody tr th:only-of-type {\n",
       "        vertical-align: middle;\n",
       "    }\n",
       "\n",
       "    .dataframe tbody tr th {\n",
       "        vertical-align: top;\n",
       "    }\n",
       "\n",
       "    .dataframe thead th {\n",
       "        text-align: right;\n",
       "    }\n",
       "</style>\n",
       "<table border=\"1\" class=\"dataframe\">\n",
       "  <thead>\n",
       "    <tr style=\"text-align: right;\">\n",
       "      <th></th>\n",
       "      <th>ADDRESS</th>\n",
       "      <th>BLK_NO</th>\n",
       "      <th>BUILDING</th>\n",
       "      <th>LATITUDE</th>\n",
       "      <th>LONGITUDE</th>\n",
       "      <th>POSTAL</th>\n",
       "      <th>ROAD_NAME</th>\n",
       "      <th>X</th>\n",
       "      <th>Y</th>\n",
       "      <th>FORMATTED_POSTCODE</th>\n",
       "      <th>INCORRECT_INPUT_POSTCODE_REASON</th>\n",
       "      <th>CORRECT_INPUT_POSTCODE</th>\n",
       "    </tr>\n",
       "  </thead>\n",
       "  <tbody>\n",
       "  </tbody>\n",
       "</table>\n",
       "</div>"
      ],
      "text/plain": [
       "\n",
       "Empty DataFrame\n",
       "Columns: \u001b[1m[\u001b[0mADDRESS, BLK_NO, BUILDING, LATITUDE, LONGITUDE, POSTAL, ROAD_NAME, X, Y, FORMATTED_POSTCODE, INCORRECT_INPUT_POSTCODE_REASON, CORRECT_INPUT_POSTCODE\u001b[1m]\u001b[0m\n",
       "Index: \u001b[1m[\u001b[0m\u001b[1m]\u001b[0m"
      ]
     },
     "execution_count": 31,
     "metadata": {},
     "output_type": "execute_result"
    }
   ],
   "source": [
    "test_config = deepcopy(params[\"postcode_validation\"])\n",
    "test_config[\"drop_incorrect\"] = True\n",
    "test_config[\"keep_validation_fields\"] = True\n",
    "validated3 = validate_and_format_postcodes(df, input_col=\"POSTAL\", postcode_validation_config=test_config)\n",
    "validated3.loc[~validated3[\"CORRECT_INPUT_POSTCODE\"]]"
   ]
  },
  {
   "cell_type": "code",
   "execution_count": 32,
   "metadata": {},
   "outputs": [
    {
     "data": {
      "text/html": [
       "<pre style=\"white-space:pre;overflow-x:auto;line-height:normal;font-family:Menlo,'DejaVu Sans Mono',consolas,'Courier New',monospace\"></pre>\n"
      ],
      "text/plain": []
     },
     "metadata": {},
     "output_type": "display_data"
    },
    {
     "data": {
      "text/html": [
       "<div>\n",
       "<style scoped>\n",
       "    .dataframe tbody tr th:only-of-type {\n",
       "        vertical-align: middle;\n",
       "    }\n",
       "\n",
       "    .dataframe tbody tr th {\n",
       "        vertical-align: top;\n",
       "    }\n",
       "\n",
       "    .dataframe thead th {\n",
       "        text-align: right;\n",
       "    }\n",
       "</style>\n",
       "<table border=\"1\" class=\"dataframe\">\n",
       "  <thead>\n",
       "    <tr style=\"text-align: right;\">\n",
       "      <th></th>\n",
       "      <th>ADDRESS</th>\n",
       "      <th>BLK_NO</th>\n",
       "      <th>BUILDING</th>\n",
       "      <th>LATITUDE</th>\n",
       "      <th>LONGITUDE</th>\n",
       "      <th>POSTAL</th>\n",
       "      <th>ROAD_NAME</th>\n",
       "      <th>X</th>\n",
       "      <th>Y</th>\n",
       "      <th>FORMATTED_POSTCODE</th>\n",
       "    </tr>\n",
       "  </thead>\n",
       "  <tbody>\n",
       "    <tr>\n",
       "      <th>0</th>\n",
       "      <td>1 STRAITS BOULEVARD SINGAPORE CHINESE CULTURA...</td>\n",
       "      <td>1</td>\n",
       "      <td>SINGAPORE CHINESE CULTURAL CENTRE</td>\n",
       "      <td>1.275805</td>\n",
       "      <td>103.849615</td>\n",
       "      <td>18906</td>\n",
       "      <td>STRAITS BOULEVARD</td>\n",
       "      <td>29813.66349</td>\n",
       "      <td>28697.52076</td>\n",
       "      <td>018906</td>\n",
       "    </tr>\n",
       "    <tr>\n",
       "      <th>1</th>\n",
       "      <td>11A STRAITS BOULEVARD TEMPORARY SITE OFFICE S...</td>\n",
       "      <td>11A</td>\n",
       "      <td>TEMPORARY SITE OFFICE</td>\n",
       "      <td>1.274950</td>\n",
       "      <td>103.851665</td>\n",
       "      <td>18907</td>\n",
       "      <td>STRAITS BOULEVARD</td>\n",
       "      <td>30041.83890</td>\n",
       "      <td>28602.98724</td>\n",
       "      <td>018907</td>\n",
       "    </tr>\n",
       "    <tr>\n",
       "      <th>2</th>\n",
       "      <td>5A MARINA GARDENS DRIVE SINGAPORE 018910</td>\n",
       "      <td>5A</td>\n",
       "      <td>NIL</td>\n",
       "      <td>1.279587</td>\n",
       "      <td>103.868956</td>\n",
       "      <td>18910</td>\n",
       "      <td>MARINA GARDENS DRIVE</td>\n",
       "      <td>31966.12079</td>\n",
       "      <td>29115.75337</td>\n",
       "      <td>018910</td>\n",
       "    </tr>\n",
       "    <tr>\n",
       "      <th>3</th>\n",
       "      <td>2 CENTRAL BOULEVARD CENTRAL BOULEVARD TOWERS ...</td>\n",
       "      <td>2</td>\n",
       "      <td>CENTRAL BOULEVARD TOWERS</td>\n",
       "      <td>1.279744</td>\n",
       "      <td>103.851591</td>\n",
       "      <td>18916</td>\n",
       "      <td>CENTRAL BOULEVARD</td>\n",
       "      <td>30033.60446</td>\n",
       "      <td>29133.10468</td>\n",
       "      <td>018916</td>\n",
       "    </tr>\n",
       "    <tr>\n",
       "      <th>4</th>\n",
       "      <td>21 PARK STREET MARINA BAY MRT STATION SINGAPO...</td>\n",
       "      <td>21</td>\n",
       "      <td>MARINA BAY MRT STATION (NS27)</td>\n",
       "      <td>1.276409</td>\n",
       "      <td>103.854595</td>\n",
       "      <td>18925</td>\n",
       "      <td>PARK STREET</td>\n",
       "      <td>30367.92624</td>\n",
       "      <td>28764.38143</td>\n",
       "      <td>018925</td>\n",
       "    </tr>\n",
       "    <tr>\n",
       "      <th>...</th>\n",
       "      <td>...</td>\n",
       "      <td>...</td>\n",
       "      <td>...</td>\n",
       "      <td>...</td>\n",
       "      <td>...</td>\n",
       "      <td>...</td>\n",
       "      <td>...</td>\n",
       "      <td>...</td>\n",
       "      <td>...</td>\n",
       "      <td>...</td>\n",
       "    </tr>\n",
       "    <tr>\n",
       "      <th>141843</th>\n",
       "      <td>1A UPPER CHANGI ROAD NORTH SINGAPORE 886129</td>\n",
       "      <td>1A</td>\n",
       "      <td>NIL</td>\n",
       "      <td>1.352316</td>\n",
       "      <td>103.966549</td>\n",
       "      <td>886129</td>\n",
       "      <td>UPPER CHANGI ROAD NORTH</td>\n",
       "      <td>42827.06921</td>\n",
       "      <td>37158.18435</td>\n",
       "      <td>886129</td>\n",
       "    </tr>\n",
       "    <tr>\n",
       "      <th>141844</th>\n",
       "      <td>100A KRANJI LOOP SINGAPORE 887327</td>\n",
       "      <td>100A</td>\n",
       "      <td>NIL</td>\n",
       "      <td>1.433629</td>\n",
       "      <td>103.758648</td>\n",
       "      <td>887327</td>\n",
       "      <td>KRANJI LOOP</td>\n",
       "      <td>19690.28100</td>\n",
       "      <td>46149.11839</td>\n",
       "      <td>887327</td>\n",
       "    </tr>\n",
       "    <tr>\n",
       "      <th>141845</th>\n",
       "      <td>A PASIR PANJANG ROAD SINGAPORE 887328</td>\n",
       "      <td>A</td>\n",
       "      <td>NIL</td>\n",
       "      <td>1.277170</td>\n",
       "      <td>103.795840</td>\n",
       "      <td>887328</td>\n",
       "      <td>PASIR PANJANG ROAD</td>\n",
       "      <td>23828.90274</td>\n",
       "      <td>28848.55342</td>\n",
       "      <td>887328</td>\n",
       "    </tr>\n",
       "    <tr>\n",
       "      <th>141846</th>\n",
       "      <td>GATE C7 AIRPORT CARGO ROAD CHANGI ANIMAL AND ...</td>\n",
       "      <td>GATE C7</td>\n",
       "      <td>CHANGI ANIMAL AND PLANT QUARANTINE CENTRE</td>\n",
       "      <td>1.375315</td>\n",
       "      <td>103.996683</td>\n",
       "      <td>918104</td>\n",
       "      <td>AIRPORT CARGO ROAD</td>\n",
       "      <td>46180.46821</td>\n",
       "      <td>39701.53429</td>\n",
       "      <td>918104</td>\n",
       "    </tr>\n",
       "    <tr>\n",
       "      <th>141847</th>\n",
       "      <td>AIRPORT BOULEVARD CHANGI AIRPORT TERMINAL 2 B...</td>\n",
       "      <td>NaN</td>\n",
       "      <td>CHANGI AIRPORT TERMINAL 2 BUILDING</td>\n",
       "      <td>1.354969</td>\n",
       "      <td>103.989067</td>\n",
       "      <td>918146</td>\n",
       "      <td>AIRPORT BOULEVARD</td>\n",
       "      <td>45333.00250</td>\n",
       "      <td>37451.71481</td>\n",
       "      <td>918146</td>\n",
       "    </tr>\n",
       "  </tbody>\n",
       "</table>\n",
       "<p>141839 rows × 10 columns</p>\n",
       "</div>"
      ],
      "text/plain": [
       "\n",
       "                                                  ADDRESS   BLK_NO  \\\n",
       "\u001b[1;36m0\u001b[0m        \u001b[1;36m1\u001b[0m STRAITS BOULEVARD SINGAPORE CHINESE CULTURA\u001b[33m...\u001b[0m        \u001b[1;36m1\u001b[0m   \n",
       "\u001b[1;36m1\u001b[0m        11A STRAITS BOULEVARD TEMPORARY SITE OFFICE S\u001b[33m...\u001b[0m      11A   \n",
       "\u001b[1;36m2\u001b[0m               5A MARINA GARDENS DRIVE SINGAPORE \u001b[1;36m018910\u001b[0m        5A   \n",
       "\u001b[1;36m3\u001b[0m        \u001b[1;36m2\u001b[0m CENTRAL BOULEVARD CENTRAL BOULEVARD TOWERS \u001b[33m...\u001b[0m        \u001b[1;36m2\u001b[0m   \n",
       "\u001b[1;36m4\u001b[0m        \u001b[1;36m21\u001b[0m PARK STREET MARINA BAY MRT STATION SINGAPO\u001b[33m...\u001b[0m       \u001b[1;36m21\u001b[0m   \n",
       "\u001b[33m...\u001b[0m                                                   \u001b[33m...\u001b[0m      \u001b[33m...\u001b[0m   \n",
       "\u001b[1;36m141843\u001b[0m       1A UPPER CHANGI ROAD NORTH SINGAPORE \u001b[1;36m886129\u001b[0m        1A   \n",
       "\u001b[1;36m141844\u001b[0m                 100A KRANJI LOOP SINGAPORE \u001b[1;36m887327\u001b[0m      100A   \n",
       "\u001b[1;36m141845\u001b[0m             A PASIR PANJANG ROAD SINGAPORE \u001b[1;36m887328\u001b[0m         A   \n",
       "\u001b[1;36m141846\u001b[0m   GATE C7 AIRPORT CARGO ROAD CHANGI ANIMAL AND \u001b[33m...\u001b[0m  GATE C7   \n",
       "\u001b[1;36m141847\u001b[0m   AIRPORT BOULEVARD CHANGI AIRPORT TERMINAL \u001b[1;36m2\u001b[0m B\u001b[33m...\u001b[0m      NaN   \n",
       "\n",
       "                                         BUILDING  LATITUDE   LONGITUDE  \\\n",
       "\u001b[1;36m0\u001b[0m               SINGAPORE CHINESE CULTURAL CENTRE  \u001b[1;36m1.275805\u001b[0m  \u001b[1;36m103.849615\u001b[0m   \n",
       "\u001b[1;36m1\u001b[0m                           TEMPORARY SITE OFFICE  \u001b[1;36m1.274950\u001b[0m  \u001b[1;36m103.851665\u001b[0m   \n",
       "\u001b[1;36m2\u001b[0m                                             NIL  \u001b[1;36m1.279587\u001b[0m  \u001b[1;36m103.868956\u001b[0m   \n",
       "\u001b[1;36m3\u001b[0m                        CENTRAL BOULEVARD TOWERS  \u001b[1;36m1.279744\u001b[0m  \u001b[1;36m103.851591\u001b[0m   \n",
       "\u001b[1;36m4\u001b[0m                   MARINA BAY MRT STATION \u001b[1m(\u001b[0mNS27\u001b[1m)\u001b[0m  \u001b[1;36m1.276409\u001b[0m  \u001b[1;36m103.854595\u001b[0m   \n",
       "\u001b[33m...\u001b[0m                                           \u001b[33m...\u001b[0m       \u001b[33m...\u001b[0m         \u001b[33m...\u001b[0m   \n",
       "\u001b[1;36m141843\u001b[0m                                        NIL  \u001b[1;36m1.352316\u001b[0m  \u001b[1;36m103.966549\u001b[0m   \n",
       "\u001b[1;36m141844\u001b[0m                                        NIL  \u001b[1;36m1.433629\u001b[0m  \u001b[1;36m103.758648\u001b[0m   \n",
       "\u001b[1;36m141845\u001b[0m                                        NIL  \u001b[1;36m1.277170\u001b[0m  \u001b[1;36m103.795840\u001b[0m   \n",
       "\u001b[1;36m141846\u001b[0m  CHANGI ANIMAL AND PLANT QUARANTINE CENTRE  \u001b[1;36m1.375315\u001b[0m  \u001b[1;36m103.996683\u001b[0m   \n",
       "\u001b[1;36m141847\u001b[0m         CHANGI AIRPORT TERMINAL \u001b[1;36m2\u001b[0m BUILDING  \u001b[1;36m1.354969\u001b[0m  \u001b[1;36m103.989067\u001b[0m   \n",
       "\n",
       "        POSTAL                ROAD_NAME            X            Y  \\\n",
       "\u001b[1;36m0\u001b[0m        \u001b[1;36m18906\u001b[0m        STRAITS BOULEVARD  \u001b[1;36m29813.66349\u001b[0m  \u001b[1;36m28697.52076\u001b[0m   \n",
       "\u001b[1;36m1\u001b[0m        \u001b[1;36m18907\u001b[0m        STRAITS BOULEVARD  \u001b[1;36m30041.83890\u001b[0m  \u001b[1;36m28602.98724\u001b[0m   \n",
       "\u001b[1;36m2\u001b[0m        \u001b[1;36m18910\u001b[0m     MARINA GARDENS DRIVE  \u001b[1;36m31966.12079\u001b[0m  \u001b[1;36m29115.75337\u001b[0m   \n",
       "\u001b[1;36m3\u001b[0m        \u001b[1;36m18916\u001b[0m        CENTRAL BOULEVARD  \u001b[1;36m30033.60446\u001b[0m  \u001b[1;36m29133.10468\u001b[0m   \n",
       "\u001b[1;36m4\u001b[0m        \u001b[1;36m18925\u001b[0m              PARK STREET  \u001b[1;36m30367.92624\u001b[0m  \u001b[1;36m28764.38143\u001b[0m   \n",
       "\u001b[33m...\u001b[0m        \u001b[33m...\u001b[0m                      \u001b[33m...\u001b[0m          \u001b[33m...\u001b[0m          \u001b[33m...\u001b[0m   \n",
       "\u001b[1;36m141843\u001b[0m  \u001b[1;36m886129\u001b[0m  UPPER CHANGI ROAD NORTH  \u001b[1;36m42827.06921\u001b[0m  \u001b[1;36m37158.18435\u001b[0m   \n",
       "\u001b[1;36m141844\u001b[0m  \u001b[1;36m887327\u001b[0m              KRANJI LOOP  \u001b[1;36m19690.28100\u001b[0m  \u001b[1;36m46149.11839\u001b[0m   \n",
       "\u001b[1;36m141845\u001b[0m  \u001b[1;36m887328\u001b[0m       PASIR PANJANG ROAD  \u001b[1;36m23828.90274\u001b[0m  \u001b[1;36m28848.55342\u001b[0m   \n",
       "\u001b[1;36m141846\u001b[0m  \u001b[1;36m918104\u001b[0m       AIRPORT CARGO ROAD  \u001b[1;36m46180.46821\u001b[0m  \u001b[1;36m39701.53429\u001b[0m   \n",
       "\u001b[1;36m141847\u001b[0m  \u001b[1;36m918146\u001b[0m        AIRPORT BOULEVARD  \u001b[1;36m45333.00250\u001b[0m  \u001b[1;36m37451.71481\u001b[0m   \n",
       "\n",
       "       FORMATTED_POSTCODE  \n",
       "\u001b[1;36m0\u001b[0m                  \u001b[1;36m018906\u001b[0m  \n",
       "\u001b[1;36m1\u001b[0m                  \u001b[1;36m018907\u001b[0m  \n",
       "\u001b[1;36m2\u001b[0m                  \u001b[1;36m018910\u001b[0m  \n",
       "\u001b[1;36m3\u001b[0m                  \u001b[1;36m018916\u001b[0m  \n",
       "\u001b[1;36m4\u001b[0m                  \u001b[1;36m018925\u001b[0m  \n",
       "\u001b[33m...\u001b[0m                   \u001b[33m...\u001b[0m  \n",
       "\u001b[1;36m141843\u001b[0m             \u001b[1;36m886129\u001b[0m  \n",
       "\u001b[1;36m141844\u001b[0m             \u001b[1;36m887327\u001b[0m  \n",
       "\u001b[1;36m141845\u001b[0m             \u001b[1;36m887328\u001b[0m  \n",
       "\u001b[1;36m141846\u001b[0m             \u001b[1;36m918104\u001b[0m  \n",
       "\u001b[1;36m141847\u001b[0m             \u001b[1;36m918146\u001b[0m  \n",
       "\n",
       "\u001b[1m[\u001b[0m\u001b[1;36m141839\u001b[0m rows x \u001b[1;36m10\u001b[0m columns\u001b[1m]\u001b[0m"
      ]
     },
     "execution_count": 32,
     "metadata": {},
     "output_type": "execute_result"
    }
   ],
   "source": [
    "test_config = deepcopy(params[\"postcode_validation\"])\n",
    "test_config[\"drop_incorrect\"] = True\n",
    "test_config[\"keep_validation_fields\"] = False\n",
    "validated3 = validate_and_format_postcodes(df, input_col=\"POSTAL\", postcode_validation_config=test_config)\n",
    "validated3"
   ]
  },
  {
   "cell_type": "code",
   "execution_count": null,
   "metadata": {},
   "outputs": [],
   "source": []
  }
 ],
 "metadata": {
  "kernelspec": {
   "display_name": ".venv",
   "language": "python",
   "name": "python3"
  },
  "language_info": {
   "codemirror_mode": {
    "name": "ipython",
    "version": 3
   },
   "file_extension": ".py",
   "mimetype": "text/x-python",
   "name": "python",
   "nbconvert_exporter": "python",
   "pygments_lexer": "ipython3",
   "version": "3.12.7"
  }
 },
 "nbformat": 4,
 "nbformat_minor": 2
}
